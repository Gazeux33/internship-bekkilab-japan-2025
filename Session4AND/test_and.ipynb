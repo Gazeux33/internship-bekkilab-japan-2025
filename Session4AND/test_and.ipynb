{
 "cells": [
  {
   "cell_type": "code",
   "execution_count": 44,
   "id": "1e135cf8",
   "metadata": {},
   "outputs": [],
   "source": [
    "import numpy as np"
   ]
  },
  {
   "cell_type": "code",
   "execution_count": 45,
   "id": "91687167",
   "metadata": {},
   "outputs": [
    {
     "data": {
      "text/plain": [
       "(array([1.86823592, 2.52696483, 6.73474035]), 1.9, 2.5, 6.7)"
      ]
     },
     "execution_count": 45,
     "metadata": {},
     "output_type": "execute_result"
    }
   ],
   "source": [
    "w = np.random.rand(3) * 10\n",
    "w_1 = np.round(w[0], 1)\n",
    "w_2 = np.round(w[1], 1)\n",
    "theta = np.round(w[2], 1)\n",
    "w, w_1, w_2, theta"
   ]
  },
  {
   "cell_type": "code",
   "execution_count": 46,
   "id": "4470a2c3",
   "metadata": {},
   "outputs": [
    {
     "data": {
      "text/plain": [
       "array([0, 0, 0, 1])"
      ]
     },
     "execution_count": 46,
     "metadata": {},
     "output_type": "execute_result"
    }
   ],
   "source": [
    "x = [ [0,0], [0,1], [1,0], [1,1]]\n",
    "x_array = np.asarray(x)\n",
    "# expected outputs (AND port is the product of each entry\n",
    "out = x_array[:, 1] * x_array[:, 0]\n",
    "out"
   ]
  },
  {
   "cell_type": "code",
   "execution_count": 47,
   "id": "c9d62d9a",
   "metadata": {},
   "outputs": [],
   "source": [
    "def step (net):\n",
    "    if net >= 0:\n",
    "        return 1\n",
    "    else:\n",
    "        return 0"
   ]
  },
  {
   "cell_type": "code",
   "execution_count": 48,
   "id": "9fe0b838",
   "metadata": {},
   "outputs": [
    {
     "data": {
      "text/plain": [
       "6.7"
      ]
     },
     "execution_count": 48,
     "metadata": {},
     "output_type": "execute_result"
    }
   ],
   "source": [
    "np.dot(np.asarray([w_1, w_2]) , x[0])  + theta"
   ]
  },
  {
   "cell_type": "code",
   "execution_count": 49,
   "id": "438f02e9",
   "metadata": {},
   "outputs": [
    {
     "data": {
      "text/plain": [
       "-3"
      ]
     },
     "execution_count": 49,
     "metadata": {},
     "output_type": "execute_result"
    }
   ],
   "source": [
    "error = np.array([0,0,0,0])\n",
    "for i in range(len(x)):\n",
    "    f_net = step(np.dot(np.asarray([w_1, w_2]) , x[i])  + theta)\n",
    "    error[i] = out[i] - f_net\n",
    "E = np.sum(error)\n",
    "E"
   ]
  },
  {
   "cell_type": "code",
   "execution_count": 50,
   "id": "0f495cd0",
   "metadata": {},
   "outputs": [
    {
     "name": "stdout",
     "output_type": "stream",
     "text": [
      "sum of errors -3\n",
      "sum of errors -3\n",
      "sum of errors -3\n",
      "sum of errors -3\n",
      "sum of errors -3\n",
      "sum of errors -3\n",
      "sum of errors -3\n",
      "sum of errors -3\n",
      "sum of errors -3\n",
      "sum of errors -3\n",
      "sum of errors -3\n",
      "sum of errors -3\n",
      "sum of errors -3\n",
      "sum of errors -3\n",
      "sum of errors -3\n",
      "sum of errors -3\n",
      "sum of errors -3\n",
      "sum of errors -3\n",
      "sum of errors -3\n",
      "sum of errors -3\n",
      "sum of errors -3\n",
      "sum of errors -3\n",
      "sum of errors -1\n",
      "sum of errors -1\n",
      "sum of errors 0\n"
     ]
    }
   ],
   "source": [
    "max_it = 1000\n",
    "t = 1\n",
    "learning_rate=0.1\n",
    "vals = [[w_1, w_2, theta]]\n",
    "while t < max_it & E != 0:\n",
    "    for i in range(len(x)):\n",
    "        f_net = step(np.dot(np.asarray([w_1, w_2]) , x[i])  + theta)\n",
    "        error[i] = out[i] - f_net\n",
    "        w_1 = w_1 + learning_rate * error[i] * x[i][0]\n",
    "        w_2 = w_2 + learning_rate * error[i] * x[i][1]\n",
    "        theta = theta + learning_rate*error[i]\n",
    "    \n",
    "    vals.append([w_1, w_2, theta])\n",
    "    E = np.sum(error)\n",
    "    print('sum of errors', E)\n",
    "    t = t+1"
   ]
  }
 ],
 "metadata": {
  "kernelspec": {
   "display_name": "Python 3",
   "language": "python",
   "name": "python3"
  },
  "language_info": {
   "codemirror_mode": {
    "name": "ipython",
    "version": 3
   },
   "file_extension": ".py",
   "mimetype": "text/x-python",
   "name": "python",
   "nbconvert_exporter": "python",
   "pygments_lexer": "ipython3",
   "version": "3.11.4"
  }
 },
 "nbformat": 4,
 "nbformat_minor": 5
}
