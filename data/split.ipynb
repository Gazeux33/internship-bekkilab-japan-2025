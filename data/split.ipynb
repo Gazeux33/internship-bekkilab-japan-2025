{
 "cells": [
  {
   "cell_type": "code",
   "execution_count": 6,
   "id": "8e7b4d04",
   "metadata": {},
   "outputs": [],
   "source": [
    "import pandas as pd"
   ]
  },
  {
   "cell_type": "code",
   "execution_count": 7,
   "id": "72bfd5f9",
   "metadata": {},
   "outputs": [],
   "source": [
    "data = pd.read_csv('Admission_Predict.csv')"
   ]
  },
  {
   "cell_type": "code",
   "execution_count": 8,
   "id": "685207ab",
   "metadata": {},
   "outputs": [
    {
     "name": "stdout",
     "output_type": "stream",
     "text": [
      "<class 'pandas.core.frame.DataFrame'>\n",
      "RangeIndex: 400 entries, 0 to 399\n",
      "Data columns (total 9 columns):\n",
      " #   Column             Non-Null Count  Dtype  \n",
      "---  ------             --------------  -----  \n",
      " 0   Serial No.         400 non-null    int64  \n",
      " 1   GRE Score          400 non-null    int64  \n",
      " 2   TOEFL Score        400 non-null    int64  \n",
      " 3   University Rating  400 non-null    int64  \n",
      " 4   SOP                400 non-null    float64\n",
      " 5   LOR                400 non-null    float64\n",
      " 6   CGPA               400 non-null    float64\n",
      " 7   Research           400 non-null    int64  \n",
      " 8   Chance of Admit    400 non-null    float64\n",
      "dtypes: float64(4), int64(5)\n",
      "memory usage: 28.3 KB\n"
     ]
    }
   ],
   "source": [
    "data.info()"
   ]
  },
  {
   "cell_type": "code",
   "execution_count": 9,
   "id": "f6648f6f",
   "metadata": {},
   "outputs": [
    {
     "data": {
      "text/plain": [
       "((320, 9), (40, 9), (40, 9))"
      ]
     },
     "execution_count": 9,
     "metadata": {},
     "output_type": "execute_result"
    }
   ],
   "source": [
    "# train , valid , eval : 8:1:1\n",
    "n = len(data)\n",
    "train_end = int(n * 0.8)\n",
    "valid_end = int(n * 0.9)\n",
    "\n",
    "train_data = data.iloc[:train_end]\n",
    "valid_data = data.iloc[train_end:valid_end]\n",
    "eval_data = data.iloc[valid_end:]\n",
    "\n",
    "train_data.shape, valid_data.shape, eval_data.shape"
   ]
  },
  {
   "cell_type": "code",
   "execution_count": 10,
   "id": "10aeedee",
   "metadata": {},
   "outputs": [],
   "source": [
    "train_data.to_csv('train.csv', index=False)\n",
    "valid_data.to_csv('valid.csv', index=False)\n",
    "eval_data.to_csv('eval.csv', index=False)"
   ]
  }
 ],
 "metadata": {
  "kernelspec": {
   "display_name": "Python 3",
   "language": "python",
   "name": "python3"
  },
  "language_info": {
   "codemirror_mode": {
    "name": "ipython",
    "version": 3
   },
   "file_extension": ".py",
   "mimetype": "text/x-python",
   "name": "python",
   "nbconvert_exporter": "python",
   "pygments_lexer": "ipython3",
   "version": "3.11.4"
  }
 },
 "nbformat": 4,
 "nbformat_minor": 5
}
