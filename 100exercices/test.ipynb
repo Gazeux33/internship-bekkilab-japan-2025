{
 "cells": [
  {
   "cell_type": "code",
   "execution_count": 43,
   "id": "a68a891f",
   "metadata": {},
   "outputs": [],
   "source": [
    "import Torch hiding (div)"
   ]
  },
  {
   "cell_type": "code",
   "execution_count": 44,
   "id": "4b4f1cb0",
   "metadata": {},
   "outputs": [],
   "source": [
    "let binaryInput = asTensor ([1.0,0.0,1.0] :: [Float])\n",
    "let binaryTarget = asTensor ([0.0,1.0,0.0] :: [Float])"
   ]
  },
  {
   "cell_type": "code",
   "execution_count": 45,
   "id": "c2f5a102",
   "metadata": {},
   "outputs": [],
   "source": [
    "binaryConfusionMatrix :: Tensor -> Tensor -> (Int, Int, Int, Int)\n",
    "binaryConfusionMatrix yTrue yPred =\n",
    "    let tp = asValue (sumAll (logicalAnd (eq yTrue 1) (eq yPred 1))) :: Int\n",
    "        tn = asValue (sumAll (logicalAnd (eq yTrue 0) (eq yPred 0))) :: Int\n",
    "        fp = asValue (sumAll (logicalAnd (eq yTrue 0) (eq yPred 1))) :: Int\n",
    "        fn = asValue (sumAll (logicalAnd (eq yTrue 1) (eq yPred 0))) :: Int\n",
    "    in (tp, fp, tn, fn)"
   ]
  },
  {
   "cell_type": "code",
   "execution_count": 46,
   "id": "967befe9",
   "metadata": {},
   "outputs": [
    {
     "data": {
      "text/plain": [
       "(0,2,0,1)"
      ]
     },
     "metadata": {},
     "output_type": "display_data"
    }
   ],
   "source": [
    "binaryConfusionMatrix binaryTarget binaryInput"
   ]
  },
  {
   "cell_type": "code",
   "execution_count": 47,
   "id": "5982e925",
   "metadata": {},
   "outputs": [],
   "source": [
    "let multiclassInput = asTensor ([3.0,4.0,0.0,3.0]:: [Float])\n",
    "let multiclassTarget = asTensor ([3.0,4.0,0.0,3.0] :: [Float])"
   ]
  },
  {
   "cell_type": "code",
   "execution_count": null,
   "id": "33ca04d4",
   "metadata": {},
   "outputs": [],
   "source": [
    "\n",
    "    "
   ]
  },
  {
   "cell_type": "code",
   "execution_count": 48,
   "id": "1abf498c",
   "metadata": {},
   "outputs": [],
   "source": [
    "multiclassConfusionMatrix :: Tensor -> Tensor -> [[Int]]\n",
    "multiclassConfusionMatrix yTrue yPred =\n",
    "    let yTrueList = map round (asValue yTrue :: [Float])\n",
    "        yPredList = map round (asValue yPred :: [Float])\n",
    "        pairs     = zip yTrueList yPredList\n",
    "        n         = if null pairs then 0 else 1 + maximum (map fst pairs ++ map snd pairs)\n",
    "    in [ [ length [ () | (t,p) <- pairs, t == i, p == j ]\n",
    "         | j <- [0..n-1] ]\n",
    "       | i <- [0..n-1] ]\n",
    "\n"
   ]
  },
  {
   "cell_type": "code",
   "execution_count": 49,
   "id": "90a73d71",
   "metadata": {},
   "outputs": [
    {
     "data": {
      "text/plain": [
       "[[1,0,0,0,0],[0,0,0,0,0],[0,0,0,0,0],[0,0,0,2,0],[0,0,0,0,1]]"
      ]
     },
     "metadata": {},
     "output_type": "display_data"
    }
   ],
   "source": [
    "multiclassConfusionMatrix multiclassTarget multiclassInput"
   ]
  },
  {
   "cell_type": "code",
   "execution_count": 50,
   "id": "fa2ac8a5",
   "metadata": {},
   "outputs": [],
   "source": [
    "import Control.Monad (forM_)\n",
    "import Text.Printf     (printf)\n",
    "\n",
    "printConfusionMatrix :: [[Int]] -> IO ()\n",
    "printConfusionMatrix m = do\n",
    "    let n = length m\n",
    "    -- header\n",
    "    putStr \"    \"\n",
    "    forM_ [0..n-1] $ \\j -> putStr $ printf \"%4d\" j\n",
    "    putStrLn \"\"\n",
    "    -- lignes\n",
    "    forM_ (zip [0..] m) $ \\(i,row) -> do\n",
    "        putStr $ printf \"%4d\" i\n",
    "        forM_ row $ \\x -> putStr $ printf \"%4d\" x\n",
    "        putStrLn \"\""
   ]
  },
  {
   "cell_type": "code",
   "execution_count": 51,
   "id": "4e217c4a",
   "metadata": {},
   "outputs": [
    {
     "data": {
      "text/plain": [
       "       0   1   2   3   4\n",
       "   0   1   0   0   0   0\n",
       "   1   0   0   0   0   0\n",
       "   2   0   0   0   0   0\n",
       "   3   0   0   0   2   0\n",
       "   4   0   0   0   0   1"
      ]
     },
     "metadata": {},
     "output_type": "display_data"
    }
   ],
   "source": [
    "printConfusionMatrix (multiclassConfusionMatrix multiclassTarget multiclassInput)"
   ]
  },
  {
   "cell_type": "code",
   "execution_count": 66,
   "id": "6846723b",
   "metadata": {},
   "outputs": [],
   "source": [
    "printConfusionMatrix\n",
    "  :: [String]   -- labels\n",
    "  -> [[Int]]    -- confusion matrix\n",
    "  -> IO ()\n",
    "printConfusionMatrix labels m = do\n",
    "  let n        = length m\n",
    "      lbls     = if length labels == n then labels else map show [0..n-1]\n",
    "      colW     = 10\n",
    "      widthExp = n * colW                     -- largeur totale des colonnes \"Expected\"\n",
    "      padExp   = (widthExp - length \"Expected\") `div` 2\n",
    "      -- on ajoute colW pour décaler le titre au-dessus de la zone \"Expected\"\n",
    "      padL     = colW + padExp\n",
    "\n",
    "  -- titre \"Expected\" centré au-dessus des colonnes de prédiction\n",
    "  putStrLn $ replicate padL ' ' ++ \"Expected\"\n",
    "\n",
    "  -- en-tête : labels Expected uniquement (sans \"Actual\")\n",
    "  putStr   $ replicate colW ' '  -- espace vide à la place de \"Actual\"\n",
    "  forM_ lbls $ \\l -> putStr $ printf \"%*s\" colW l\n",
    "  putStrLn \"\"\n",
    "\n",
    "  -- lignes : valeurs uniquement (sans étiquettes)\n",
    "  forM_ (zip lbls m) $ \\(lab,row) -> do\n",
    "    putStr $ printf \"%*s\" colW lab\n",
    "    forM_ row $ \\x -> putStr $ printf \"%*d\" colW x\n",
    "    putStrLn \"\""
   ]
  },
  {
   "cell_type": "code",
   "execution_count": 68,
   "id": "3117af3c",
   "metadata": {},
   "outputs": [
    {
     "data": {
      "text/plain": [
       "                               Expected\n",
       "                chat     chien   bonjour       moi        kk\n",
       "      chat         1         0         0         0         0\n",
       "     chien         0         0         0         0         0\n",
       "   bonjour         0         0         0         0         0\n",
       "       moi         0         0         0         2         0\n",
       "        kk         0         0         0         0         1"
      ]
     },
     "metadata": {},
     "output_type": "display_data"
    }
   ],
   "source": [
    "printConfusionMatrix [\"chat\",\"chien\",\"bonjour\",\"moi\",\"kk\"] (multiclassConfusionMatrix multiclassTarget multiclassInput)"
   ]
  },
  {
   "cell_type": "code",
   "execution_count": 6,
   "id": "3208f449",
   "metadata": {},
   "outputs": [],
   "source": [
    "import qualified Torch.Functional.Internal as FI\n",
    "import Torch\n",
    "\n",
    "target <- randIO' [3,4]\n",
    "input <- randIO' [3,4]\n",
    "\n",
    "crossEntropyLoss :: Tensor -> Tensor -> Float\n",
    "crossEntropyLoss target output = \n",
    "  let\n",
    "      weight = ones' [last (shape output)]\n",
    "      loss = FI.cross_entropy_loss output target weight 1 (-100) 0.0\n",
    "\n",
    "    in\n",
    "      asValue loss"
   ]
  },
  {
   "cell_type": "code",
   "execution_count": 7,
   "id": "4b177183",
   "metadata": {},
   "outputs": [
    {
     "data": {
      "text/plain": [
       "2.866855"
      ]
     },
     "metadata": {},
     "output_type": "display_data"
    }
   ],
   "source": [
    "crossEntropyLoss target input"
   ]
  }
 ],
 "metadata": {
  "kernelspec": {
   "display_name": "Haskell",
   "language": "haskell",
   "name": "haskell"
  },
  "language_info": {
   "codemirror_mode": "ihaskell",
   "file_extension": ".hs",
   "mimetype": "text/x-haskell",
   "name": "haskell",
   "pygments_lexer": "Haskell",
   "version": "9.2.5"
  }
 },
 "nbformat": 4,
 "nbformat_minor": 5
}
