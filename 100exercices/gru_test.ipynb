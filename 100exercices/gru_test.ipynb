{
 "cells": [
  {
   "cell_type": "code",
   "execution_count": 4,
   "id": "98386048",
   "metadata": {},
   "outputs": [],
   "source": [
    "import Torch"
   ]
  },
  {
   "cell_type": "code",
   "execution_count": 5,
   "id": "88e635e3",
   "metadata": {},
   "outputs": [],
   "source": [
    "batchSize = 16\n",
    "windowSize = 7\n",
    "numSample = 1000\n"
   ]
  },
  {
   "cell_type": "markdown",
   "metadata": {},
   "source": [
    "# DATA"
   ]
  },
  {
   "cell_type": "code",
   "execution_count": 14,
   "id": "fb13b6a4",
   "metadata": {},
   "outputs": [
    {
     "data": {
      "text/html": [
       "<style>/* Styles used for the Hoogle display in the pager */\n",
       ".hoogle-doc {\n",
       "display: block;\n",
       "padding-bottom: 1.3em;\n",
       "padding-left: 0.4em;\n",
       "}\n",
       ".hoogle-code {\n",
       "display: block;\n",
       "font-family: monospace;\n",
       "white-space: pre;\n",
       "}\n",
       ".hoogle-text {\n",
       "display: block;\n",
       "}\n",
       ".hoogle-name {\n",
       "color: green;\n",
       "font-weight: bold;\n",
       "}\n",
       ".hoogle-head {\n",
       "font-weight: bold;\n",
       "}\n",
       ".hoogle-sub {\n",
       "display: block;\n",
       "margin-left: 0.4em;\n",
       "}\n",
       ".hoogle-package {\n",
       "font-weight: bold;\n",
       "font-style: italic;\n",
       "}\n",
       ".hoogle-module {\n",
       "font-weight: bold;\n",
       "}\n",
       ".hoogle-class {\n",
       "font-weight: bold;\n",
       "}\n",
       ".get-type {\n",
       "color: green;\n",
       "font-weight: bold;\n",
       "font-family: monospace;\n",
       "display: block;\n",
       "white-space: pre-wrap;\n",
       "}\n",
       ".show-type {\n",
       "color: green;\n",
       "font-weight: bold;\n",
       "font-family: monospace;\n",
       "margin-left: 1em;\n",
       "}\n",
       ".mono {\n",
       "font-family: monospace;\n",
       "display: block;\n",
       "}\n",
       ".err-msg {\n",
       "color: red;\n",
       "font-style: italic;\n",
       "font-family: monospace;\n",
       "white-space: pre;\n",
       "display: block;\n",
       "}\n",
       "#unshowable {\n",
       "color: red;\n",
       "font-weight: bold;\n",
       "}\n",
       ".err-msg.in.collapse {\n",
       "padding-top: 0.7em;\n",
       "}\n",
       ".highlight-code {\n",
       "white-space: pre;\n",
       "font-family: monospace;\n",
       "}\n",
       ".suggestion-warning { \n",
       "font-weight: bold;\n",
       "color: rgb(200, 130, 0);\n",
       "}\n",
       ".suggestion-error { \n",
       "font-weight: bold;\n",
       "color: red;\n",
       "}\n",
       ".suggestion-name {\n",
       "font-weight: bold;\n",
       "}\n",
       "</style><div class=\"suggestion-name\" style=\"clear:both;\">Eta reduce</div><div class=\"suggestion-row\" style=\"float: left;\"><div class=\"suggestion-warning\">Found:</div><div class=\"highlight-code\" id=\"haskell\">stackTensors ts = Torch.stack (Dim 0) ts</div></div><div class=\"suggestion-row\" style=\"float: left;\"><div class=\"suggestion-warning\">Why Not:</div><div class=\"highlight-code\" id=\"haskell\">stackTensors = Torch.stack (Dim 0)</div></div>"
      ],
      "text/plain": [
       "Line 29: Eta reduce\n",
       "Found:\n",
       "stackTensors ts = Torch.stack (Dim 0) ts\n",
       "Why not:\n",
       "stackTensors = Torch.stack (Dim 0)"
      ]
     },
     "metadata": {},
     "output_type": "display_data"
    }
   ],
   "source": [
    "import qualified Torch.Functional.Internal as FI\n",
    "import Torch\n",
    "\n",
    "type Dataloader = [(Tensor, Tensor)]\n",
    "type MyDataset = [(Tensor, Tensor)]\n",
    "\n",
    "createInput :: Tensor -> Int -> [Tensor]\n",
    "createInput tensor winSize =\n",
    "    [ Torch.squeezeAll $ FI.slice tensor 0 i (i + winSize) 1 | i <- [0 .. Torch.size 0 tensor - winSize] ]\n",
    "\n",
    "-- Create target values (next steps after window)\n",
    "-- Output shape: [1, featureSize]\n",
    "createTarget :: Tensor -> Int -> [Tensor]\n",
    "createTarget tensor winSize = [ FI.slice tensor 0 (i + winSize) (i + winSize + 1) 1 | i <- [0 .. Torch.size 0 tensor - winSize - 1] ]\n",
    "\n",
    "-- Create dataset of (input, target) pairs\n",
    "createDataset :: Tensor -> Int -> MyDataset\n",
    "createDataset tensor winSize = zip (createInput tensor winSize) (createTarget tensor winSize)\n",
    "\n",
    "-- Helper: Split a list into chunks of given size\n",
    "chunksOf :: Int -> [a] -> [[a]]\n",
    "chunksOf _ [] = []\n",
    "chunksOf n xs = let (chunk, rest) = splitAt n xs in chunk : chunksOf n rest\n",
    "\n",
    "-- Helper: Stack a list of tensors along a new 0 axis\n",
    "-- Input: List of tensors, each potentially with shape [S1, S2, ...]\n",
    "-- Output: Tensor with shape [ListLength, S1, S2, ...]\n",
    "stackTensors :: [Tensor] -> Tensor\n",
    "stackTensors ts = Torch.stack (Dim 0) ts\n",
    "\n",
    "-- Create batched dataloader\n",
    "-- Input batch shape: [batchSize, windowSize, featureSize]\n",
    "-- Target batch shape: [batchSize, featureSize] (after squeezing dim 1)\n",
    "createDataloader :: MyDataset -> Int -> Dataloader\n",
    "createDataloader dataset batchSize =\n",
    "    map processBatch (filter (\\chunk -> length chunk == batchSize) (chunksOf batchSize dataset))\n",
    "    where\n",
    "        processBatch batch =\n",
    "            let inputs = map fst batch  -- List of tensors [windowSize, featureSize]\n",
    "                targets = map snd batch -- List of tensors [1, featureSize]\n",
    "                inputBatch = stackTensors inputs -- Tensor [batchSize, windowSize, featureSize]\n",
    "                -- Stack targets to [batchSize, 1, featureSize], then squeeze to [batchSize, featureSize]\n",
    "                targetBatch = Torch.squeezeDim 1 (stackTensors targets)\n",
    "            in (inputBatch, targetBatch)\n"
   ]
  },
  {
   "cell_type": "code",
   "execution_count": 16,
   "id": "0011e4d2",
   "metadata": {},
   "outputs": [],
   "source": [
    "v <- randIO' [numSample,1]"
   ]
  },
  {
   "cell_type": "code",
   "execution_count": 17,
   "id": "1dac562c",
   "metadata": {},
   "outputs": [
    {
     "data": {
      "text/plain": [
       "[7]"
      ]
     },
     "metadata": {},
     "output_type": "display_data"
    }
   ],
   "source": [
    "x = createInput v windowSize\n",
    "shape $ head x"
   ]
  },
  {
   "cell_type": "code",
   "execution_count": 18,
   "id": "41b49ff1",
   "metadata": {},
   "outputs": [],
   "source": [
    "dataset = createDataset v windowSize"
   ]
  },
  {
   "cell_type": "code",
   "execution_count": 19,
   "metadata": {},
   "outputs": [
    {
     "data": {
      "text/plain": [
       "Dataloader Size : 62"
      ]
     },
     "metadata": {},
     "output_type": "display_data"
    },
    {
     "data": {
      "text/plain": [
       "Size of one Item: ([16,7],[16,1])"
      ]
     },
     "metadata": {},
     "output_type": "display_data"
    }
   ],
   "source": [
    "dataloader = createDataloader dataset batchSize\n",
    "putStrLn $ \"Dataloader Size : \" ++ show ( length dataloader)\n",
    "putStrLn $ \"Size of one Item: (\" ++ show (shape (fst (head dataloader))) ++ \",\" ++ show (shape (snd (head dataloader))) ++ \")\""
   ]
  },
  {
   "cell_type": "markdown",
   "metadata": {},
   "source": [
    "# GRU"
   ]
  },
  {
   "cell_type": "code",
   "execution_count": 20,
   "id": "b8080b37",
   "metadata": {},
   "outputs": [
    {
     "data": {
      "text/html": [
       "<style>/* Styles used for the Hoogle display in the pager */\n",
       ".hoogle-doc {\n",
       "display: block;\n",
       "padding-bottom: 1.3em;\n",
       "padding-left: 0.4em;\n",
       "}\n",
       ".hoogle-code {\n",
       "display: block;\n",
       "font-family: monospace;\n",
       "white-space: pre;\n",
       "}\n",
       ".hoogle-text {\n",
       "display: block;\n",
       "}\n",
       ".hoogle-name {\n",
       "color: green;\n",
       "font-weight: bold;\n",
       "}\n",
       ".hoogle-head {\n",
       "font-weight: bold;\n",
       "}\n",
       ".hoogle-sub {\n",
       "display: block;\n",
       "margin-left: 0.4em;\n",
       "}\n",
       ".hoogle-package {\n",
       "font-weight: bold;\n",
       "font-style: italic;\n",
       "}\n",
       ".hoogle-module {\n",
       "font-weight: bold;\n",
       "}\n",
       ".hoogle-class {\n",
       "font-weight: bold;\n",
       "}\n",
       ".get-type {\n",
       "color: green;\n",
       "font-weight: bold;\n",
       "font-family: monospace;\n",
       "display: block;\n",
       "white-space: pre-wrap;\n",
       "}\n",
       ".show-type {\n",
       "color: green;\n",
       "font-weight: bold;\n",
       "font-family: monospace;\n",
       "margin-left: 1em;\n",
       "}\n",
       ".mono {\n",
       "font-family: monospace;\n",
       "display: block;\n",
       "}\n",
       ".err-msg {\n",
       "color: red;\n",
       "font-style: italic;\n",
       "font-family: monospace;\n",
       "white-space: pre;\n",
       "display: block;\n",
       "}\n",
       "#unshowable {\n",
       "color: red;\n",
       "font-weight: bold;\n",
       "}\n",
       ".err-msg.in.collapse {\n",
       "padding-top: 0.7em;\n",
       "}\n",
       ".highlight-code {\n",
       "white-space: pre;\n",
       "font-family: monospace;\n",
       "}\n",
       ".suggestion-warning { \n",
       "font-weight: bold;\n",
       "color: rgb(200, 130, 0);\n",
       "}\n",
       ".suggestion-error { \n",
       "font-weight: bold;\n",
       "color: red;\n",
       "}\n",
       ".suggestion-name {\n",
       "font-weight: bold;\n",
       "}\n",
       "</style><span class='get-type'>model :: GRUCell</span>"
      ],
      "text/plain": [
       "model :: GRUCell"
      ]
     },
     "metadata": {},
     "output_type": "display_data"
    },
    {
     "data": {
      "text/plain": [
       "[16,10]"
      ]
     },
     "metadata": {},
     "output_type": "display_data"
    }
   ],
   "source": [
    "import Torch.NN.Recurrent.Cell.GRU \n",
    "\n",
    "-- data GRUModel = GRUModel\n",
    "--   { gruLayer :: GRU\n",
    "--   , linearOut :: Linear\n",
    "--   } deriving (Generic, Show)\n",
    "\n",
    "\n",
    "\n",
    "\n",
    "model <- sample $ GRUSpec{inputSize = 7, hiddenSize = 10}\n",
    "hidden_state <- randIO' [batchSize, 10]\n",
    "\n",
    "\n",
    ":t model\n",
    "shape hidden_state"
   ]
  },
  {
   "cell_type": "code",
   "execution_count": 22,
   "id": "d3326e23",
   "metadata": {},
   "outputs": [
    {
     "data": {
      "text/plain": [
       "[16,7]"
      ]
     },
     "metadata": {},
     "output_type": "display_data"
    }
   ],
   "source": [
    "\n",
    "(x,y) = head dataloader\n",
    "shape x\n",
    "\n",
    "\n"
   ]
  }
 ],
 "metadata": {
  "kernelspec": {
   "display_name": "Haskell",
   "language": "haskell",
   "name": "haskell"
  },
  "language_info": {
   "codemirror_mode": "ihaskell",
   "file_extension": ".hs",
   "mimetype": "text/x-haskell",
   "name": "haskell",
   "pygments_lexer": "Haskell",
   "version": "9.2.5"
  }
 },
 "nbformat": 4,
 "nbformat_minor": 5
}
