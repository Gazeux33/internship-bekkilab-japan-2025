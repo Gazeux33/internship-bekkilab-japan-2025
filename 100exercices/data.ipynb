{
 "cells": [
  {
   "cell_type": "code",
   "execution_count": 21,
   "id": "18113d6a",
   "metadata": {},
   "outputs": [],
   "source": [
    "import Torch\n",
    "import qualified Torch.Functional as F\n",
    "import qualified Torch.Functional.Internal as FI"
   ]
  },
  {
   "cell_type": "code",
   "execution_count": 22,
   "id": "70ef3743",
   "metadata": {},
   "outputs": [],
   "source": [
    "windowSize = 5\n",
    "batchSize = 12\n",
    "vectorSize = 49"
   ]
  },
  {
   "cell_type": "code",
   "execution_count": 23,
   "id": "f132ca95",
   "metadata": {},
   "outputs": [
    {
     "data": {
      "text/plain": [
       "[50]"
      ]
     },
     "metadata": {},
     "output_type": "display_data"
    }
   ],
   "source": [
    "v = asTensor ([0..vectorSize] :: [Float])\n",
    "shape v\n"
   ]
  },
  {
   "cell_type": "code",
   "execution_count": 24,
   "id": "390e6f0f",
   "metadata": {},
   "outputs": [],
   "source": [
    "createInput :: Tensor -> Int -> [Tensor]\n",
    "createInput tensor winSize = [ FI.slice tensor 0 i (i + winSize) 1 | i <- [0 .. size 0 tensor - winSize] ]\n",
    "\n",
    "createTarget :: Tensor -> Int -> [Tensor]\n",
    "createTarget tensor winSize = [ FI.slice tensor 0 i (i + 1) 1 | i <- [winSize .. size 0 tensor - 1] ]\n",
    "\n",
    "createDataset :: Tensor -> Int -> [(Tensor, Tensor)]\n",
    "createDataset tensor winSize = zip (createInput tensor winSize) (createTarget tensor winSize)\n",
    "\n",
    "createDataloader :: [(Tensor, Tensor)] -> Int -> [[(Tensor, Tensor)]]\n",
    "createDataloader dataset batchSize = \n",
    "    chunks dataset\n",
    "    where\n",
    "        chunks [] = []\n",
    "        chunks xs = Prelude.take batchSize xs : chunks (drop batchSize xs)\n",
    "\n"
   ]
  },
  {
   "cell_type": "code",
   "execution_count": 25,
   "id": "4bb079ba",
   "metadata": {},
   "outputs": [
    {
     "data": {
      "text/plain": [
       "45"
      ]
     },
     "metadata": {},
     "output_type": "display_data"
    }
   ],
   "source": [
    "dataset = createDataset v windowSize\n",
    "length dataset"
   ]
  },
  {
   "cell_type": "code",
   "execution_count": 28,
   "id": "50879a6a",
   "metadata": {},
   "outputs": [
    {
     "data": {
      "text/plain": [
       "4"
      ]
     },
     "metadata": {},
     "output_type": "display_data"
    },
    {
     "data": {
      "text/html": [
       "<style>/* Styles used for the Hoogle display in the pager */\n",
       ".hoogle-doc {\n",
       "display: block;\n",
       "padding-bottom: 1.3em;\n",
       "padding-left: 0.4em;\n",
       "}\n",
       ".hoogle-code {\n",
       "display: block;\n",
       "font-family: monospace;\n",
       "white-space: pre;\n",
       "}\n",
       ".hoogle-text {\n",
       "display: block;\n",
       "}\n",
       ".hoogle-name {\n",
       "color: green;\n",
       "font-weight: bold;\n",
       "}\n",
       ".hoogle-head {\n",
       "font-weight: bold;\n",
       "}\n",
       ".hoogle-sub {\n",
       "display: block;\n",
       "margin-left: 0.4em;\n",
       "}\n",
       ".hoogle-package {\n",
       "font-weight: bold;\n",
       "font-style: italic;\n",
       "}\n",
       ".hoogle-module {\n",
       "font-weight: bold;\n",
       "}\n",
       ".hoogle-class {\n",
       "font-weight: bold;\n",
       "}\n",
       ".get-type {\n",
       "color: green;\n",
       "font-weight: bold;\n",
       "font-family: monospace;\n",
       "display: block;\n",
       "white-space: pre-wrap;\n",
       "}\n",
       ".show-type {\n",
       "color: green;\n",
       "font-weight: bold;\n",
       "font-family: monospace;\n",
       "margin-left: 1em;\n",
       "}\n",
       ".mono {\n",
       "font-family: monospace;\n",
       "display: block;\n",
       "}\n",
       ".err-msg {\n",
       "color: red;\n",
       "font-style: italic;\n",
       "font-family: monospace;\n",
       "white-space: pre;\n",
       "display: block;\n",
       "}\n",
       "#unshowable {\n",
       "color: red;\n",
       "font-weight: bold;\n",
       "}\n",
       ".err-msg.in.collapse {\n",
       "padding-top: 0.7em;\n",
       "}\n",
       ".highlight-code {\n",
       "white-space: pre;\n",
       "font-family: monospace;\n",
       "}\n",
       ".suggestion-warning { \n",
       "font-weight: bold;\n",
       "color: rgb(200, 130, 0);\n",
       "}\n",
       ".suggestion-error { \n",
       "font-weight: bold;\n",
       "color: red;\n",
       "}\n",
       ".suggestion-name {\n",
       "font-weight: bold;\n",
       "}\n",
       "</style><span class='get-type'>dataloader :: [[(Tensor, Tensor)]]</span>"
      ],
      "text/plain": [
       "dataloader :: [[(Tensor, Tensor)]]"
      ]
     },
     "metadata": {},
     "output_type": "display_data"
    }
   ],
   "source": [
    "dataloader = createDataloader dataset batchSize\n",
    "length dataloader\n",
    ":t dataloader"
   ]
  }
 ],
 "metadata": {
  "kernelspec": {
   "display_name": "Haskell",
   "language": "haskell",
   "name": "haskell"
  },
  "language_info": {
   "codemirror_mode": "ihaskell",
   "file_extension": ".hs",
   "mimetype": "text/x-haskell",
   "name": "haskell",
   "pygments_lexer": "Haskell",
   "version": "9.2.5"
  }
 },
 "nbformat": 4,
 "nbformat_minor": 5
}
