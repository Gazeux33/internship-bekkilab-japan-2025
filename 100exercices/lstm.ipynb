{
 "cells": [
  {
   "cell_type": "markdown",
   "id": "3ebbe1cb-6503-4979-b238-2ae5027e607f",
   "metadata": {},
   "source": [
    "## Test With LSTM"
   ]
  },
  {
   "cell_type": "code",
   "execution_count": null,
   "id": "2e194389-b7bd-4002-82fd-fc201a4500e1",
   "metadata": {},
   "outputs": [],
   "source": [
    "import qualified Torch.NN.Recurrent.Cell.LSTM as LSTM\n",
    "import qualified Torch.NN.Recurrent.Cell.GRU as GRU\n",
    "import qualified Torch.Functional as F\n",
    "import qualified Torch.Functional.Internal as FI\n",
    "import Torch\n",
    "import Torch.NN\n",
    "import Torch.Autograd"
   ]
  },
  {
   "cell_type": "code",
   "execution_count": 4,
   "id": "37b36488-b121-45c6-88ae-b85dda66916b",
   "metadata": {},
   "outputs": [
    {
     "data": {
      "text/plain": [
       "Input : Tensor Int64 [100] [ 1,  2,  3,  4,  5,  6,  7,  8,  9,  10,  11,  12,  13,  14,  15,  16,  17,  18,  19,  20,  21,  22,  23,  24,  25,  26,  27,  28,  29,  30,  31,  32,  33,  34,  35,  36,  37,  38,  39,  40,  41,  42,  43,  44,  45,  46,  47,  48,  49,  50,  51,  52,  53,  54,  55,  56,  57,  58,  59,  60,  61,  62,  63,  64,  65,  66,  67,  68,  69,  70,  71,  72,  73,  74,  75,  76,  77,  78,  79,  80,  81,  82,  83,  84,  85,  86,  87,  88,  89,  90,  91,  92,  93,  94,  95,  96,  97,  98,  99,  100]"
      ]
     },
     "metadata": {},
     "output_type": "display_data"
    },
    {
     "data": {
      "text/plain": [
       "target : Tensor Int64 [100] [ 1,  2,  3,  4,  5,  6,  7,  8,  9,  10,  11,  12,  13,  14,  15,  16,  17,  18,  19,  20,  21,  22,  23,  24,  25,  26,  27,  28,  29,  30,  31,  32,  33,  34,  35,  36,  37,  38,  39,  40,  41,  42,  43,  44,  45,  46,  47,  48,  49,  50,  51,  52,  53,  54,  55,  56,  57,  58,  59,  60,  61,  62,  63,  64,  65,  66,  67,  68,  69,  70,  71,  72,  73,  74,  75,  76,  77,  78,  79,  80,  81,  82,  83,  84,  85,  86,  87,  88,  89,  90,  91,  92,  93,  94,  95,  96,  97,  98,  99,  100]"
      ]
     },
     "metadata": {},
     "output_type": "display_data"
    }
   ],
   "source": [
    "input = asTensor ([1..100] :: [Int])\n",
    "target = asTensor ([1..100] :: [Int])\n",
    "putStrLn $ \"Input : \" ++ show input\n",
    "putStrLn $ \"target : \" ++ show target"
   ]
  },
  {
   "cell_type": "code",
   "execution_count": null,
   "id": "1fca33c0-fdac-4be0-b6f1-727b91f54e60",
   "metadata": {},
   "outputs": [
    {
     "data": {
      "text/plain": [
       "\"GRUSpec {inputSize = 7, hiddenSize = 2}\""
      ]
     },
     "metadata": {},
     "output_type": "display_data"
    }
   ],
   "source": [
    "inputSize = 14\n",
    "batchSize = 2\n",
    "hiddenSize = 2\n",
    "gruSpec = GRU.GRUSpec 7 2\n",
    "show gruSpec"
   ]
  },
  {
   "cell_type": "code",
   "execution_count": 6,
   "id": "eb569ec3-5344-402d-b79b-8b9e7b8fd56b",
   "metadata": {},
   "outputs": [
    {
     "data": {
      "text/html": [
       "<style>/* Styles used for the Hoogle display in the pager */\n",
       ".hoogle-doc {\n",
       "display: block;\n",
       "padding-bottom: 1.3em;\n",
       "padding-left: 0.4em;\n",
       "}\n",
       ".hoogle-code {\n",
       "display: block;\n",
       "font-family: monospace;\n",
       "white-space: pre;\n",
       "}\n",
       ".hoogle-text {\n",
       "display: block;\n",
       "}\n",
       ".hoogle-name {\n",
       "color: green;\n",
       "font-weight: bold;\n",
       "}\n",
       ".hoogle-head {\n",
       "font-weight: bold;\n",
       "}\n",
       ".hoogle-sub {\n",
       "display: block;\n",
       "margin-left: 0.4em;\n",
       "}\n",
       ".hoogle-package {\n",
       "font-weight: bold;\n",
       "font-style: italic;\n",
       "}\n",
       ".hoogle-module {\n",
       "font-weight: bold;\n",
       "}\n",
       ".hoogle-class {\n",
       "font-weight: bold;\n",
       "}\n",
       ".get-type {\n",
       "color: green;\n",
       "font-weight: bold;\n",
       "font-family: monospace;\n",
       "display: block;\n",
       "white-space: pre-wrap;\n",
       "}\n",
       ".show-type {\n",
       "color: green;\n",
       "font-weight: bold;\n",
       "font-family: monospace;\n",
       "margin-left: 1em;\n",
       "}\n",
       ".mono {\n",
       "font-family: monospace;\n",
       "display: block;\n",
       "}\n",
       ".err-msg {\n",
       "color: red;\n",
       "font-style: italic;\n",
       "font-family: monospace;\n",
       "white-space: pre;\n",
       "display: block;\n",
       "}\n",
       "#unshowable {\n",
       "color: red;\n",
       "font-weight: bold;\n",
       "}\n",
       ".err-msg.in.collapse {\n",
       "padding-top: 0.7em;\n",
       "}\n",
       ".highlight-code {\n",
       "white-space: pre;\n",
       "font-family: monospace;\n",
       "}\n",
       ".suggestion-warning { \n",
       "font-weight: bold;\n",
       "color: rgb(200, 130, 0);\n",
       "}\n",
       ".suggestion-error { \n",
       "font-weight: bold;\n",
       "color: red;\n",
       "}\n",
       ".suggestion-name {\n",
       "font-weight: bold;\n",
       "}\n",
       "</style><span class='get-type'>gru :: GRUCell</span>"
      ],
      "text/plain": [
       "gru :: GRUCell"
      ]
     },
     "metadata": {},
     "output_type": "display_data"
    },
    {
     "data": {
      "text/plain": [
       "[2,2]"
      ]
     },
     "metadata": {},
     "output_type": "display_data"
    }
   ],
   "source": [
    "gru <- sample gruSpec\n",
    "let hiddenState = zeros' [2, hiddenSize]\n",
    ":t gru\n",
    "shape hiddenState\n"
   ]
  },
  {
   "cell_type": "code",
   "execution_count": 7,
   "id": "1b53c01b",
   "metadata": {},
   "outputs": [
    {
     "data": {
      "text/plain": [
       "[2,7]"
      ]
     },
     "metadata": {},
     "output_type": "display_data"
    }
   ],
   "source": [
    "let inputTensor = reshape [2, 7] $ asTensor ([1..14] :: [Float])  \n",
    "shape inputTensor"
   ]
  },
  {
   "cell_type": "code",
   "execution_count": 8,
   "id": "b7f0a685",
   "metadata": {},
   "outputs": [
    {
     "data": {
      "text/plain": [
       "Output : Tensor Float [2,2] [[ 1.8713e-2, -3.8397e-4],\n",
       "                    [-0.9998   ,  0.0000]]"
      ]
     },
     "metadata": {},
     "output_type": "display_data"
    }
   ],
   "source": [
    " let output = GRU.gruCellForward gru inputTensor hiddenState\n",
    " putStrLn $ \"Output : \" ++ show output"
   ]
  },
  {
   "cell_type": "code",
   "execution_count": null,
   "id": "eb089fa1-1698-4a5e-9dc3-87c5341f7033",
   "metadata": {},
   "outputs": [],
   "source": []
  }
 ],
 "metadata": {
  "kernelspec": {
   "display_name": "Haskell",
   "language": "haskell",
   "name": "haskell"
  },
  "language_info": {
   "codemirror_mode": "ihaskell",
   "file_extension": ".hs",
   "mimetype": "text/x-haskell",
   "name": "haskell",
   "pygments_lexer": "Haskell",
   "version": "9.2.5"
  }
 },
 "nbformat": 4,
 "nbformat_minor": 5
}
