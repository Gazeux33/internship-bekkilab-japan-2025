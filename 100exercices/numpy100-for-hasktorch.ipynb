{
 "cells": [
  {
   "cell_type": "markdown",
   "id": "600d2914-b5b4-4519-9a6c-bfda09a916fb",
   "metadata": {},
   "source": [
    "# hasktorch 100 Exercises"
   ]
  },
  {
   "cell_type": "markdown",
   "id": "6a5dc93c-8c1d-43b8-bd2b-5fd2b068a292",
   "metadata": {},
   "source": [
    "This is a collection of exercises that have been collected from https://github.com/rougier/numpy-100.  The number of stars (★) indicates the difficulty of each exercise."
   ]
  },
  {
   "cell_type": "markdown",
   "id": "0636644e-4f91-4bf3-a524-721860c41d20",
   "metadata": {},
   "source": [
    "Import necessary libraries."
   ]
  },
  {
   "cell_type": "code",
   "execution_count": 77,
   "id": "921d4dc2-9b3b-4924-898d-67176f17e7af",
   "metadata": {},
   "outputs": [],
   "source": [
    "import Torch\n",
    "import qualified Torch.Functional as F\n",
    "import qualified Torch.Functional.Internal as FI"
   ]
  },
  {
   "cell_type": "markdown",
   "id": "46e8e9e2-6231-463b-aa61-cd3dbe1a5510",
   "metadata": {},
   "source": [
    "### 1. Create a null vector of size 10 but the fifth value is 1 (★☆☆)"
   ]
  },
  {
   "cell_type": "code",
   "execution_count": 78,
   "id": "0e0eed2c-1390-48f0-955f-0c9d62a97bec",
   "metadata": {},
   "outputs": [
    {
     "data": {
      "text/plain": [
       "Tensor Float [10] [ 0.0000,  0.0000,  0.0000,  0.0000,  1.0000   ,  0.0000,  0.0000,  0.0000,  0.0000,  0.0000]"
      ]
     },
     "metadata": {},
     "output_type": "display_data"
    }
   ],
   "source": [
    "{-\n",
    "-- | Puts values from the tensor value into the input tensor (out-of-place)\n",
    "-- using the indices specified in indices (which is a tuple of Tensors).\n",
    "-- The expression tensor.index_put_(indices, value) is equivalent to tensor[indices] = value.\n",
    "-- If accumulate is True, the elements in value are added to self. If accumulate is False, the behavior is undefined if indices contain duplicate elements.\n",
    "indexPut ::\n",
    "  -- | accumulate\n",
    "  Bool ->\n",
    "  -- | indices\n",
    "  [Tensor] ->\n",
    "  -- | values\n",
    "  Tensor ->\n",
    "  -- | input\n",
    "  Tensor ->\n",
    "  -- | output\n",
    "  Tensor\n",
    "indexPut accumulate indices values self = unsafePerformIO $ cast4 ATen.index_put_tltb self indices values accumulate\n",
    "-}\n",
    "\n",
    "let zeros = zeros' [10] :: Tensor\n",
    "indexPut False [(asTensor (4 :: Int))] (asTensor (1.0 :: Float)) zeros"
   ]
  },
  {
   "cell_type": "markdown",
   "id": "b4016aee-5142-4b45-b3e6-ea476fd84118",
   "metadata": {},
   "source": [
    "### 2. Create a vector with values ranging from 10 to 49 (★☆☆)"
   ]
  },
  {
   "cell_type": "code",
   "execution_count": 79,
   "id": "f1126229-938c-4047-8f01-ce9707a46e19",
   "metadata": {},
   "outputs": [
    {
     "data": {
      "text/plain": [
       "Tensor Float [40] [ 10.0000   ,  11.0000   ,  12.0000   ,  13.0000   ,  14.0000   ,  15.0000   ,  16.0000   ,  17.0000   ,  18.0000   ,  19.0000   ,  20.0000   ,  21.0000   ,  22.0000   ,  23.0000   ,  24.0000   ,  25.0000   ,  26.0000   ,  27.0000   ,  28.0000   ,  29.0000   ,  30.0000   ,  31.0000   ,  32.0000   ,  33.0000   ,  34.0000   ,  35.0000   ,  36.0000   ,  37.0000   ,  38.0000   ,  39.0000   ,  40.0000   ,  41.0000   ,  42.0000   ,  43.0000   ,  44.0000   ,  45.0000   ,  46.0000   ,  47.0000   ,  48.0000   ,  49.0000   ]"
      ]
     },
     "metadata": {},
     "output_type": "display_data"
    }
   ],
   "source": [
    "{-\n",
    "-- | Returns a 1-D tensor with values from the interval [start, end) taken with common difference step beginning from start.\n",
    "arange' ::\n",
    "  -- | start\n",
    "  Int ->\n",
    "  -- | end\n",
    "  Int ->\n",
    "  -- | step\n",
    "  Int ->\n",
    "  -- | output\n",
    "  Tensor\n",
    "arange' s e ss = arange s e ss defaultOpts\n",
    "-}\n",
    "\n",
    "let r = arange' 10 50 1\n",
    "r"
   ]
  },
  {
   "cell_type": "markdown",
   "id": "d0a3f6a8-d2c7-42d3-b9a9-268fa7a980d5",
   "metadata": {},
   "source": [
    "### 3. Reverse a vector (first element becomes last) (★☆☆)"
   ]
  },
  {
   "cell_type": "code",
   "execution_count": 80,
   "id": "2e904a2c-d16e-4d86-9ba3-f60d96511001",
   "metadata": {},
   "outputs": [
    {
     "data": {
      "text/plain": [
       "Tensor Int64 [5] [ 5,  4,  3,  2,  1]"
      ]
     },
     "metadata": {},
     "output_type": "display_data"
    }
   ],
   "source": [
    "{-\n",
    "flip ::\n",
    "  -- | self\n",
    "  Tensor ->\n",
    "  -- | dims\n",
    "  [Int] ->\n",
    "  Tensor\n",
    "flip _self _dims = unsafePerformIO $ (cast2 ATen.flip_tl) _self _dims\n",
    "-}\n",
    "\n",
    "let vector1 = asTensor ([1,2,3,4,5] :: [Int])\n",
    "let reversed = FI.flip vector1 [0]\n",
    "reversed"
   ]
  },
  {
   "cell_type": "markdown",
   "id": "4c34192d-b018-41c7-84bc-a3099d5d8d0e",
   "metadata": {},
   "source": [
    "### 4. Create a 3x3 matrix with values ranging from 0 to 8 (★☆☆)"
   ]
  },
  {
   "cell_type": "code",
   "execution_count": 81,
   "id": "b774c2d4-b818-4c71-8228-b26f2036f4bf",
   "metadata": {},
   "outputs": [
    {
     "data": {
      "text/plain": [
       "Tensor Float [3,3] [[ 0.0000,  1.0000   ,  2.0000   ],\n",
       "                    [ 3.0000   ,  4.0000   ,  5.0000   ],\n",
       "                    [ 6.0000   ,  7.0000   ,  8.0000   ]]"
      ]
     },
     "metadata": {},
     "output_type": "display_data"
    }
   ],
   "source": [
    "{-\n",
    "-- | Returns a tensor with the same data and number of elements as input, but with the specified shape.\n",
    "reshape ::\n",
    "  [Int] ->\n",
    "  Tensor ->\n",
    "  Tensor\n",
    "reshape shape t = unsafePerformIO $ cast2 ATen.reshape_tl t shape\n",
    "-}\n",
    "\n",
    "reshape [3,3] (arange' 0 9 1)"
   ]
  },
  {
   "cell_type": "markdown",
   "id": "8b3592c4-5cc4-4c9c-895c-8ba374498466",
   "metadata": {},
   "source": [
    "### 5. Find indices of non-zero elements from [1,2,0,0,4,0] (★☆☆)"
   ]
  },
  {
   "cell_type": "code",
   "execution_count": 82,
   "id": "15e46a5c-533a-4035-b751-c3171aebd97b",
   "metadata": {},
   "outputs": [
    {
     "data": {
      "text/plain": [
       "[0,1,4]"
      ]
     },
     "metadata": {},
     "output_type": "display_data"
    }
   ],
   "source": [
    "[i | (i, x) <- zip [0..] [1,2,0,0,4,0], x /= 0]"
   ]
  },
  {
   "cell_type": "markdown",
   "id": "9769e681-7d7a-4011-9c54-8a3f2276126f",
   "metadata": {},
   "source": [
    "### 6. Create a 3x3 identity matrix (★☆☆)"
   ]
  },
  {
   "cell_type": "code",
   "execution_count": 83,
   "id": "8500d496-3730-4e62-a263-c590a1faca7b",
   "metadata": {},
   "outputs": [
    {
     "data": {
      "text/plain": [
       "Tensor Float [3,3] [[ 1.0000   ,  0.0000,  0.0000],\n",
       "                    [ 0.0000,  1.0000   ,  0.0000],\n",
       "                    [ 0.0000,  0.0000,  1.0000   ]]"
      ]
     },
     "metadata": {},
     "output_type": "display_data"
    }
   ],
   "source": [
    "{-\n",
    "eye' :: Int -> Int -> Tensor\n",
    "eye' nrows ncols = eye nrows ncols defaultOpts\n",
    "\n",
    "-}\n",
    "\n",
    "eye' (3 :: Int) (3 :: Int)"
   ]
  },
  {
   "cell_type": "markdown",
   "id": "7e5bedc0-e61a-4530-b7a6-695d1260092b",
   "metadata": {},
   "source": [
    "### 7. Create a 3x3x3 array with random values (★☆☆)"
   ]
  },
  {
   "cell_type": "code",
   "execution_count": 84,
   "id": "326ad4b6-fc60-4b02-8595-7b4a868937dd",
   "metadata": {},
   "outputs": [
    {
     "data": {
      "text/plain": [
       "Tensor Float [3,3,3] [[[ 0.1177   ,  0.2008   ,  0.2987   ],\n",
       "                       [ 0.7613   ,  0.3800   ,  0.6875   ],\n",
       "                       [ 0.9151   ,  0.7780   ,  9.4638e-2]],\n",
       "                      [[ 0.5090   ,  0.4980   ,  0.4648   ],\n",
       "                       [ 0.3591   ,  0.3283   ,  0.8711   ],\n",
       "                       [ 1.3842e-2,  0.6309   ,  0.6118   ]],\n",
       "                      [[ 0.3441   ,  0.1033   ,  0.9155   ],\n",
       "                       [ 0.6525   ,  0.1077   ,  0.3966   ],\n",
       "                       [ 0.5345   ,  0.5761   ,  0.5789   ]]]"
      ]
     },
     "metadata": {},
     "output_type": "display_data"
    },
    {
     "data": {
      "text/html": [
       "<style>/* Styles used for the Hoogle display in the pager */\n",
       ".hoogle-doc {\n",
       "display: block;\n",
       "padding-bottom: 1.3em;\n",
       "padding-left: 0.4em;\n",
       "}\n",
       ".hoogle-code {\n",
       "display: block;\n",
       "font-family: monospace;\n",
       "white-space: pre;\n",
       "}\n",
       ".hoogle-text {\n",
       "display: block;\n",
       "}\n",
       ".hoogle-name {\n",
       "color: green;\n",
       "font-weight: bold;\n",
       "}\n",
       ".hoogle-head {\n",
       "font-weight: bold;\n",
       "}\n",
       ".hoogle-sub {\n",
       "display: block;\n",
       "margin-left: 0.4em;\n",
       "}\n",
       ".hoogle-package {\n",
       "font-weight: bold;\n",
       "font-style: italic;\n",
       "}\n",
       ".hoogle-module {\n",
       "font-weight: bold;\n",
       "}\n",
       ".hoogle-class {\n",
       "font-weight: bold;\n",
       "}\n",
       ".get-type {\n",
       "color: green;\n",
       "font-weight: bold;\n",
       "font-family: monospace;\n",
       "display: block;\n",
       "white-space: pre-wrap;\n",
       "}\n",
       ".show-type {\n",
       "color: green;\n",
       "font-weight: bold;\n",
       "font-family: monospace;\n",
       "margin-left: 1em;\n",
       "}\n",
       ".mono {\n",
       "font-family: monospace;\n",
       "display: block;\n",
       "}\n",
       ".err-msg {\n",
       "color: red;\n",
       "font-style: italic;\n",
       "font-family: monospace;\n",
       "white-space: pre;\n",
       "display: block;\n",
       "}\n",
       "#unshowable {\n",
       "color: red;\n",
       "font-weight: bold;\n",
       "}\n",
       ".err-msg.in.collapse {\n",
       "padding-top: 0.7em;\n",
       "}\n",
       ".highlight-code {\n",
       "white-space: pre;\n",
       "font-family: monospace;\n",
       "}\n",
       ".suggestion-warning { \n",
       "font-weight: bold;\n",
       "color: rgb(200, 130, 0);\n",
       "}\n",
       ".suggestion-error { \n",
       "font-weight: bold;\n",
       "color: red;\n",
       "}\n",
       ".suggestion-name {\n",
       "font-weight: bold;\n",
       "}\n",
       "</style><span class='get-type'>random_tensor :: IO Tensor</span>"
      ],
      "text/plain": [
       "random_tensor :: IO Tensor"
      ]
     },
     "metadata": {},
     "output_type": "display_data"
    }
   ],
   "source": [
    "{-\n",
    "randIO' :: [Int] -> IO Tensor\n",
    "randIO' = mkDefaultFactory randIO\n",
    "-}\n",
    "\n",
    "let random_tensor = randIO' [3, 3,3]\n",
    "random_tensor\n",
    ":t random_tensor"
   ]
  },
  {
   "cell_type": "markdown",
   "id": "6f2a22a6-ec2e-4bca-b9a0-6e87cb826348",
   "metadata": {},
   "source": [
    "### 8. Create a 10x10 array with random values and find the minimum and maximum values (★☆☆)"
   ]
  },
  {
   "cell_type": "code",
   "execution_count": 85,
   "id": "cb0b26d7-2ce8-47ac-bf6c-0f0c16943758",
   "metadata": {},
   "outputs": [
    {
     "data": {
      "text/html": [
       "<style>/* Styles used for the Hoogle display in the pager */\n",
       ".hoogle-doc {\n",
       "display: block;\n",
       "padding-bottom: 1.3em;\n",
       "padding-left: 0.4em;\n",
       "}\n",
       ".hoogle-code {\n",
       "display: block;\n",
       "font-family: monospace;\n",
       "white-space: pre;\n",
       "}\n",
       ".hoogle-text {\n",
       "display: block;\n",
       "}\n",
       ".hoogle-name {\n",
       "color: green;\n",
       "font-weight: bold;\n",
       "}\n",
       ".hoogle-head {\n",
       "font-weight: bold;\n",
       "}\n",
       ".hoogle-sub {\n",
       "display: block;\n",
       "margin-left: 0.4em;\n",
       "}\n",
       ".hoogle-package {\n",
       "font-weight: bold;\n",
       "font-style: italic;\n",
       "}\n",
       ".hoogle-module {\n",
       "font-weight: bold;\n",
       "}\n",
       ".hoogle-class {\n",
       "font-weight: bold;\n",
       "}\n",
       ".get-type {\n",
       "color: green;\n",
       "font-weight: bold;\n",
       "font-family: monospace;\n",
       "display: block;\n",
       "white-space: pre-wrap;\n",
       "}\n",
       ".show-type {\n",
       "color: green;\n",
       "font-weight: bold;\n",
       "font-family: monospace;\n",
       "margin-left: 1em;\n",
       "}\n",
       ".mono {\n",
       "font-family: monospace;\n",
       "display: block;\n",
       "}\n",
       ".err-msg {\n",
       "color: red;\n",
       "font-style: italic;\n",
       "font-family: monospace;\n",
       "white-space: pre;\n",
       "display: block;\n",
       "}\n",
       "#unshowable {\n",
       "color: red;\n",
       "font-weight: bold;\n",
       "}\n",
       ".err-msg.in.collapse {\n",
       "padding-top: 0.7em;\n",
       "}\n",
       ".highlight-code {\n",
       "white-space: pre;\n",
       "font-family: monospace;\n",
       "}\n",
       ".suggestion-warning { \n",
       "font-weight: bold;\n",
       "color: rgb(200, 130, 0);\n",
       "}\n",
       ".suggestion-error { \n",
       "font-weight: bold;\n",
       "color: red;\n",
       "}\n",
       ".suggestion-name {\n",
       "font-weight: bold;\n",
       "}\n",
       "</style><span class='get-type'>t :: Tensor</span>"
      ],
      "text/plain": [
       "t :: Tensor"
      ]
     },
     "metadata": {},
     "output_type": "display_data"
    },
    {
     "data": {
      "text/plain": [
       "Tensor Float []  0.9878"
      ]
     },
     "metadata": {},
     "output_type": "display_data"
    },
    {
     "data": {
      "text/plain": [
       "Tensor Float []  1.2024e-2"
      ]
     },
     "metadata": {},
     "output_type": "display_data"
    }
   ],
   "source": [
    "{-\n",
    "-- | min\n",
    "min ::\n",
    "  -- | input\n",
    "  Tensor ->\n",
    "  -- | output\n",
    "  Tensor\n",
    "min t = unsafePerformIO $ cast1 ATen.min_t t\n",
    "\n",
    "-- | max\n",
    "max ::\n",
    "  -- | input\n",
    "  Tensor ->\n",
    "  -- | output\n",
    "  Tensor\n",
    "max t = unsafePerformIO $ cast1 ATen.max_t t\n",
    "-}\n",
    "\n",
    "t <- randIO' [10,10]\n",
    ":t t\n",
    "F.max t\n",
    "F.min t"
   ]
  },
  {
   "cell_type": "markdown",
   "id": "4f8ed47f-c2e7-4ec7-8537-cdec62f4ab68",
   "metadata": {},
   "source": [
    "### 9. Create a random vector of size 30 and find the mean value (★☆☆)"
   ]
  },
  {
   "cell_type": "code",
   "execution_count": 86,
   "id": "1c0e59b8-59ab-46be-b287-2d9e4804f817",
   "metadata": {},
   "outputs": [
    {
     "data": {
      "text/plain": [
       "Tensor Float []  0.4712"
      ]
     },
     "metadata": {},
     "output_type": "display_data"
    }
   ],
   "source": [
    "{-\n",
    "-- | Returns the mean value of all elements in the input tensor.\n",
    "mean ::\n",
    "  -- | input\n",
    "  Tensor ->\n",
    "  -- | output\n",
    "  Tensor\n",
    "mean t = unsafePerformIO $ cast1 ATen.mean_t t\n",
    "-}\n",
    "t <- randIO' [30]\n",
    "F.mean t"
   ]
  },
  {
   "cell_type": "markdown",
   "id": "a3f542c4-a659-4759-8e2c-4ce5dd61befb",
   "metadata": {},
   "source": [
    "### 10. Create a 2d array with 1 on the border and 0 inside (★☆☆)"
   ]
  },
  {
   "cell_type": "code",
   "execution_count": 87,
   "id": "6c0f7364-9f3f-4483-bafc-089cf98444ee",
   "metadata": {},
   "outputs": [
    {
     "data": {
      "text/plain": [
       "Tensor Float [5,5] [[ 1.0000   ,  1.0000   ,  1.0000   ,  1.0000   ,  1.0000   ],\n",
       "                    [ 1.0000   ,  0.0000,  0.0000,  0.0000,  1.0000   ],\n",
       "                    [ 1.0000   ,  0.0000,  0.0000,  0.0000,  1.0000   ],\n",
       "                    [ 1.0000   ,  0.0000,  0.0000,  0.0000,  1.0000   ],\n",
       "                    [ 1.0000   ,  1.0000   ,  1.0000   ,  1.0000   ,  1.0000   ]]"
      ]
     },
     "metadata": {},
     "output_type": "display_data"
    }
   ],
   "source": [
    "{-\n",
    "constant_pad_nd ::\n",
    "  -- | self\n",
    "  Tensor ->\n",
    "  -- | pad\n",
    "  [Int] ->\n",
    "  -- | value\n",
    "  Float ->\n",
    "  Tensor\n",
    "constant_pad_nd _self _pad _value = unsafePerformIO $ (cast3 ATen.constant_pad_nd_tls) _self _pad _value\n",
    "-}\n",
    "\n",
    "let t = zeros' [3,3]\n",
    "FI.constant_pad_nd t [1,1,1,1] 1 "
   ]
  },
  {
   "cell_type": "markdown",
   "id": "98b18445-8fd7-4305-bbdb-f3d2cbc25697",
   "metadata": {},
   "source": [
    "### 11. How to add a border (filled with 0's) around an existing array? (★☆☆)"
   ]
  },
  {
   "cell_type": "code",
   "execution_count": 88,
   "id": "f593c0ee-310d-43a4-8af2-c9f0121f4c21",
   "metadata": {},
   "outputs": [
    {
     "data": {
      "text/plain": [
       "Tensor Float [5,5] [[ 0.0000,  0.0000,  0.0000,  0.0000,  0.0000],\n",
       "                    [ 0.0000,  0.8042   ,  0.8939   ,  0.3297   ,  0.0000],\n",
       "                    [ 0.0000,  0.9045   ,  8.4947e-2,  0.2449   ,  0.0000],\n",
       "                    [ 0.0000,  0.5666   ,  0.6978   ,  0.4040   ,  0.0000],\n",
       "                    [ 0.0000,  0.0000,  0.0000,  0.0000,  0.0000]]"
      ]
     },
     "metadata": {},
     "output_type": "display_data"
    }
   ],
   "source": [
    "{-\n",
    "constant_pad_nd ::\n",
    "  -- | self\n",
    "  Tensor ->\n",
    "  -- | pad\n",
    "  [Int] ->\n",
    "  -- | value\n",
    "  Float ->\n",
    "  Tensor\n",
    "constant_pad_nd _self _pad _value = unsafePerformIO $ (cast3 ATen.constant_pad_nd_tls) _self _pad _value\n",
    "-}\n",
    "\n",
    "t <- randIO' [3,3]\n",
    "FI.constant_pad_nd t [1,1,1,1] 0 "
   ]
  },
  {
   "cell_type": "markdown",
   "id": "b4889a8a-6377-404e-abec-71cc696b78bb",
   "metadata": {},
   "source": [
    "### 12. Create a 5x5 matrix with values 1,2,3,4 just below the diagonal (★☆☆)"
   ]
  },
  {
   "cell_type": "code",
   "execution_count": 89,
   "id": "17befd85-57c6-4ffa-a6cf-0e4347b233e8",
   "metadata": {},
   "outputs": [
    {
     "data": {
      "text/plain": [
       "Tensor Int64 [5,5] [[ 0,  0,  0,  0,  0],\n",
       "                    [ 1,  0,  0,  0,  0],\n",
       "                    [ 0,  2,  0,  0,  0],\n",
       "                    [ 0,  0,  3,  0,  0],\n",
       "                    [ 0,  0,  0,  4,  0]]"
      ]
     },
     "metadata": {},
     "output_type": "display_data"
    }
   ],
   "source": [
    "{-\n",
    "diagEmbed ::\n",
    "  -- | offset\n",
    "  Diag ->\n",
    "  -- | dim1\n",
    "  Dim ->\n",
    "  -- | dim2\n",
    "  Dim ->\n",
    "  -- | self\n",
    "  Tensor ->\n",
    "  Tensor\n",
    "diagEmbed (Diag offset) (Dim dim1) (Dim dim2) t = unsafePerformIO $ cast4 ATen.diag_embed_tlll t offset dim1 dim2\n",
    "-}\n",
    "\n",
    "let v = asTensor ([1,2,3,4] :: [Int])\n",
    "let resultat = F.diagEmbed (Diag (-1)) (Dim 0) (Dim 1) v\n",
    "resultat\n"
   ]
  },
  {
   "cell_type": "markdown",
   "id": "ca4997cc-d422-4fd4-8039-b705571d5df5",
   "metadata": {},
   "source": [
    "### 13. Consider a (6,7,8) shape array, what is the index (x,y,z) of the 100th element?"
   ]
  },
  {
   "cell_type": "code",
   "execution_count": 90,
   "id": "19226256-7462-44be-9e97-1991548e2ed4",
   "metadata": {},
   "outputs": [],
   "source": [
    "{-\n",
    "99 // 7*8 = 1\n",
    "99 % 7*8 = 43\n",
    "\n",
    "43 // 8 = 5\n",
    "43 % 8 = 3\n",
    "\n",
    "index = [1,5,3]\n",
    "-}"
   ]
  },
  {
   "cell_type": "markdown",
   "id": "d56cf4d1-b36d-4d01-a3ed-5f7711a8503e",
   "metadata": {},
   "source": [
    "### 14. Normalize a 5x5 random matrix (★☆☆)"
   ]
  },
  {
   "cell_type": "code",
   "execution_count": 91,
   "id": "6636444e-8024-47ad-8fe4-5781b3516afe",
   "metadata": {},
   "outputs": [
    {
     "data": {
      "text/plain": [
       "Tensor Float [5,5] [[ 0.4936   ,  0.2433   ,  0.3627   ,  2.7635e-2,  0.2925   ],\n",
       "                    [ 2.0999e-2,  0.4451   ,  0.8420   ,  0.4134   ,  0.2272   ],\n",
       "                    [ 1.0000   ,  0.7296   ,  0.7029   ,  0.2310   ,  0.4735   ],\n",
       "                    [ 0.6130   ,  1.6189e-2,  0.0000,  7.3184e-2,  0.9639   ],\n",
       "                    [ 0.5523   ,  0.6716   ,  0.5451   ,  9.8702e-2,  0.2511   ]]"
      ]
     },
     "metadata": {},
     "output_type": "display_data"
    }
   ],
   "source": [
    "m <- randIO' [5,5]\n",
    "max = F.max m\n",
    "min = F.min m\n",
    "\n",
    "normalized = (m - min) / (max - min)\n",
    "normalized\n"
   ]
  },
  {
   "cell_type": "markdown",
   "id": "11c33439-cb77-4741-b5a1-91aa0328e46c",
   "metadata": {},
   "source": [
    "### 15. Multiply a 5x3 matrix by a 3x2 matrix (real matrix product) (★☆☆)"
   ]
  },
  {
   "cell_type": "code",
   "execution_count": 92,
   "id": "262ac1bf-2374-4b90-843e-b6c05b3a1f34",
   "metadata": {},
   "outputs": [
    {
     "data": {
      "text/plain": [
       "Tensor Float [5,2] [[ 1.3375   ,  1.1060   ],\n",
       "                    [ 1.5080   ,  1.2646   ],\n",
       "                    [ 1.6379   ,  1.3209   ],\n",
       "                    [ 1.7965   ,  1.2671   ],\n",
       "                    [ 1.3533   ,  1.1116   ]]"
      ]
     },
     "metadata": {},
     "output_type": "display_data"
    }
   ],
   "source": [
    "{-\n",
    "matmul ::\n",
    "  -- | self\n",
    "  Tensor ->\n",
    "  -- | other\n",
    "  Tensor ->\n",
    "  Tensor\n",
    "matmul _self _other = unsafePerformIO $ (cast2 ATen.matmul_tt) _self _other\n",
    "-}\n",
    "\n",
    "m1 <- randIO' [5,3]\n",
    "m2 <- randIO' [3,2]\n",
    "FI.matmul m1 m2\n"
   ]
  },
  {
   "cell_type": "markdown",
   "id": "dc3c9d61-bb7a-4523-9539-9c84f25b01b1",
   "metadata": {},
   "source": [
    "### 16. Given a 1D array, negate all elements which are between 3 and 8, in place. (★☆☆)"
   ]
  },
  {
   "cell_type": "code",
   "execution_count": 93,
   "id": "748293fc-1f1b-4a34-90f7-22939c0783b6",
   "metadata": {},
   "outputs": [
    {
     "data": {
      "text/plain": [
       "Tensor Float [10] [ 0.3488   ,  0.3077   ,  0.4600   ,  0.5889   ,  0.3502   ,  0.5383   ,  0.5305   ,  0.9415   ,  0.1513   ,  0.2659   ]"
      ]
     },
     "metadata": {},
     "output_type": "display_data"
    }
   ],
   "source": [
    "a <- randIO' [10]\n",
    "a"
   ]
  },
  {
   "cell_type": "code",
   "execution_count": 94,
   "id": "97cb5f2a",
   "metadata": {},
   "outputs": [
    {
     "data": {
      "text/plain": [
       "Tensor Float [5] [-0.5889   , -0.3502   , -0.5383   , -0.5305   , -0.9415   ]"
      ]
     },
     "metadata": {},
     "output_type": "display_data"
    }
   ],
   "source": [
    "negate $ FI.narrow_tltl a 0 3 5"
   ]
  },
  {
   "cell_type": "code",
   "execution_count": 95,
   "id": "45de29b0",
   "metadata": {},
   "outputs": [
    {
     "data": {
      "text/plain": [
       "Tensor Float [10] [ 0.3488   ,  0.3077   ,  0.4600   ,  0.5889   ,  0.3502   ,  0.5383   ,  0.5305   ,  0.9415   ,  0.1513   ,  0.2659   ]"
      ]
     },
     "metadata": {},
     "output_type": "display_data"
    }
   ],
   "source": [
    "a"
   ]
  },
  {
   "cell_type": "markdown",
   "id": "59bc1b30-15e3-4d39-b186-eeac59c21d16",
   "metadata": {},
   "source": [
    "### 17. How to round away from zero a float array ? (★☆☆)"
   ]
  },
  {
   "cell_type": "code",
   "execution_count": 96,
   "id": "71198ba6-aaca-4d6c-9e65-c1a7e7bf4e6d",
   "metadata": {},
   "outputs": [
    {
     "data": {
      "text/plain": [
       "Tensor Float [5] [ 0.2347   ,  0.9707   ,  0.7852   ,  0.5177   ,  0.8111   ]"
      ]
     },
     "metadata": {},
     "output_type": "display_data"
    },
    {
     "data": {
      "text/plain": [
       "Tensor Float [5] [ 0.0000,  1.0000   ,  1.0000   ,  1.0000   ,  1.0000   ]"
      ]
     },
     "metadata": {},
     "output_type": "display_data"
    }
   ],
   "source": [
    "a <- randIO' [5]\n",
    "a\n",
    "FI.round_t a"
   ]
  },
  {
   "cell_type": "markdown",
   "id": "bc51e140-d4f3-4d8e-a574-0d5745caf11f",
   "metadata": {},
   "source": [
    "### 18. How to find common values between two arrays? (★☆☆)"
   ]
  },
  {
   "cell_type": "markdown",
   "id": "0d25fe73",
   "metadata": {},
   "source": []
  },
  {
   "cell_type": "code",
   "execution_count": 97,
   "id": "d2878930-a57e-4d63-bcf9-fad5973415a7",
   "metadata": {},
   "outputs": [
    {
     "data": {
      "text/plain": [
       "a1: Tensor Int64 [4] [ 1,  2,  3,  4]"
      ]
     },
     "metadata": {},
     "output_type": "display_data"
    },
    {
     "data": {
      "text/plain": [
       "a2: Tensor Int64 [4] [ 1,  2,  4,  10]"
      ]
     },
     "metadata": {},
     "output_type": "display_data"
    },
    {
     "data": {
      "text/plain": [
       "equals_elements:: Tensor Bool [4] [ 1,  1,  0,  0]"
      ]
     },
     "metadata": {},
     "output_type": "display_data"
    }
   ],
   "source": [
    "a1 = asTensor ([1,2,3,4] :: [Int])\n",
    "a2 = asTensor ([1,2,4,10] :: [Int])\n",
    "putStrLn $ \"a1: \" ++ show a1\n",
    "putStrLn $ \"a2: \" ++ show a2\n",
    "\n",
    "{--\n",
    "mask = a1 - a2\n",
    "putStrLn $ \"mask: \" ++ show mask\n",
    "--}\n",
    "\n",
    "elements = eq a1 a2\n",
    "putStrLn $ \"equals_elements:: \" ++ show elements\n"
   ]
  },
  {
   "cell_type": "code",
   "execution_count": null,
   "id": "028ad6c7",
   "metadata": {},
   "outputs": [],
   "source": []
  },
  {
   "cell_type": "markdown",
   "id": "806fe64d-bc4e-45a1-9b08-822129b441d7",
   "metadata": {},
   "source": [
    "### 19. How to compute ((A+B)*(-A/2)) in place (without copy)? (★★☆)"
   ]
  },
  {
   "cell_type": "code",
   "execution_count": 98,
   "id": "bbec5bc2-e2c7-4fad-8b2f-931a30d96722",
   "metadata": {},
   "outputs": [
    {
     "data": {
      "text/plain": [
       "a: Tensor Float [5] [ 0.9269   ,  0.9883   ,  0.9641   ,  0.4194   ,  0.9632   ]"
      ]
     },
     "metadata": {},
     "output_type": "display_data"
    },
    {
     "data": {
      "text/plain": [
       "b: Tensor Float [5] [ 0.6528   ,  0.4414   ,  0.9468   ,  0.1707   ,  0.4616   ]"
      ]
     },
     "metadata": {},
     "output_type": "display_data"
    },
    {
     "data": {
      "text/plain": [
       "result:Tensor Float [5] [-0.7321   , -0.7065   , -0.9211   , -0.1238   , -0.6862   ]"
      ]
     },
     "metadata": {},
     "output_type": "display_data"
    }
   ],
   "source": [
    "a <- randIO' [5]\n",
    "b <- randIO' [5]\n",
    "putStrLn $ \"a: \" ++ show a\n",
    "putStrLn $ \"b: \" ++ show b\n",
    "\n",
    "out = ((a+b)*(-a/2))\n",
    "putStrLn $ \"result:\" ++ show out\n"
   ]
  },
  {
   "cell_type": "markdown",
   "id": "0fc50bed-4eaf-42d4-bd3e-7557722a7d5c",
   "metadata": {},
   "source": [
    "### 20. Extract the integer part of a random array of positive numbers using 4 different methods (★★☆)"
   ]
  },
  {
   "cell_type": "code",
   "execution_count": 99,
   "id": "d3d45577-ff29-4201-86f1-20446db07f24",
   "metadata": {},
   "outputs": [
    {
     "data": {
      "text/plain": [
       "Original array:Tensor Float [5] [ 1.5797   ,  1.4297   ,  1.9109   ,  0.5901   ,  1.4248   ]"
      ]
     },
     "metadata": {},
     "output_type": "display_data"
    }
   ],
   "source": [
    "t1 <- randIO' [5]\n",
    "t2 <- randintIO' 0 100 [5]\n",
    "t = a+b\n",
    "putStrLn $ \"Original array:\" ++ show t"
   ]
  },
  {
   "cell_type": "code",
   "execution_count": 100,
   "id": "eb4a4646",
   "metadata": {},
   "outputs": [
    {
     "data": {
      "text/plain": [
       "floor: Tensor Float [5] [ 1.0000   ,  1.0000   ,  1.0000   ,  0.0000,  1.0000   ]"
      ]
     },
     "metadata": {},
     "output_type": "display_data"
    },
    {
     "data": {
      "text/plain": [
       "trunc: Tensor Float [5] [ 1.0000   ,  1.0000   ,  1.0000   ,  0.0000,  1.0000   ]"
      ]
     },
     "metadata": {},
     "output_type": "display_data"
    },
    {
     "data": {
      "text/plain": [
       "round: Tensor Float [5] [ 2.0000   ,  1.0000   ,  2.0000   ,  1.0000   ,  1.0000   ]"
      ]
     },
     "metadata": {},
     "output_type": "display_data"
    }
   ],
   "source": [
    "\n",
    "\n",
    "  let m1 = F.floor t\n",
    "  putStrLn $ \"floor: \" ++ show m1\n",
    "  \n",
    "  let m2 = FI.trunc t\n",
    "  putStrLn $ \"trunc: \" ++ show m2\n",
    "  \n",
    "  let m3 = FI.round_tl t 0\n",
    "  putStrLn $ \"round: \" ++ show m3\n",
    "  \n",
    "  {--\n",
    "  let m4 = FI.int_repr t\n",
    "  putStrLn $ \"int_repr: \" ++ show m4\n",
    "  --}\n"
   ]
  },
  {
   "cell_type": "markdown",
   "id": "a821f472-3a24-41fd-a47c-529d3fd67493",
   "metadata": {},
   "source": [
    "### 21. Create a 5x5 matrix with row values ranging from 0 to 4 (★★☆)"
   ]
  },
  {
   "cell_type": "code",
   "execution_count": 101,
   "id": "d23ccf88-aa00-42c5-a862-bcb453fe5515",
   "metadata": {},
   "outputs": [
    {
     "data": {
      "text/plain": [
       "Tensor Float [5,5] [[ 0.0000,  1.0000   ,  2.0000   ,  3.0000   ,  4.0000   ],\n",
       "                    [ 0.0000,  1.0000   ,  2.0000   ,  3.0000   ,  4.0000   ],\n",
       "                    [ 0.0000,  1.0000   ,  2.0000   ,  3.0000   ,  4.0000   ],\n",
       "                    [ 0.0000,  1.0000   ,  2.0000   ,  3.0000   ,  4.0000   ],\n",
       "                    [ 0.0000,  1.0000   ,  2.0000   ,  3.0000   ,  4.0000   ]]"
      ]
     },
     "metadata": {},
     "output_type": "display_data"
    }
   ],
   "source": [
    "let r = arange' 0 5 1\n",
    "let a = F.repeat [5,1] r\n",
    "a"
   ]
  },
  {
   "cell_type": "markdown",
   "id": "22f5ce30-4f6b-473d-9119-8ac377724a31",
   "metadata": {},
   "source": [
    "### 22. Consider a generator function that generates 10 integers and use it to build an array (★☆☆)"
   ]
  },
  {
   "cell_type": "code",
   "execution_count": null,
   "id": "f5dba386-426b-4399-94a3-52db92e6ebbc",
   "metadata": {},
   "outputs": [],
   "source": []
  },
  {
   "cell_type": "markdown",
   "id": "dbf3b87c-7c9d-4ac4-9edc-010373dd4244",
   "metadata": {},
   "source": [
    "### 23. Create a vector of size 10 with values ranging from 0 to 1, both excluded (★★☆)"
   ]
  },
  {
   "cell_type": "code",
   "execution_count": null,
   "id": "473e3c31-3671-475b-bb52-ede6206db27d",
   "metadata": {},
   "outputs": [],
   "source": []
  },
  {
   "cell_type": "markdown",
   "id": "a43b97a3-2c0c-4525-ac4b-d9b29d839620",
   "metadata": {},
   "source": [
    "### 24. Create a random vector of size 10 and sort it (★★☆)"
   ]
  },
  {
   "cell_type": "code",
   "execution_count": 102,
   "id": "0e90c12f-eddd-4c2c-8ffb-daf1c01a43bf",
   "metadata": {},
   "outputs": [
    {
     "data": {
      "text/plain": [
       "Random vector :Tensor Float [10] [ 60.0000   ,  51.0000   ,  9.0000   ,  63.0000   ,  92.0000   ,  18.0000   ,  3.0000   ,  29.0000   ,  99.0000   ,  58.0000   ]"
      ]
     },
     "metadata": {},
     "output_type": "display_data"
    },
    {
     "data": {
      "text/plain": [
       "output:Tensor Float [10] [ 3.0000   ,  9.0000   ,  18.0000   ,  29.0000   ,  51.0000   ,  58.0000   ,  60.0000   ,  63.0000   ,  92.0000   ,  99.0000   ]"
      ]
     },
     "metadata": {},
     "output_type": "display_data"
    }
   ],
   "source": [
    "r <- randintIO' 0 100 [10]\n",
    "putStrLn $ \"Random vector :\" ++ show r\n",
    "\n",
    "let (sorted, _) = FI.sort r 0 False\n",
    "\n",
    "putStrLn $ \"output:\" ++ show sorted"
   ]
  },
  {
   "cell_type": "markdown",
   "id": "2224fe0b-d6a7-474a-8791-5a4fff57868f",
   "metadata": {},
   "source": [
    "### 25. How to sum a small array faster than Torch.Tensor.sum? (★★☆)"
   ]
  },
  {
   "cell_type": "code",
   "execution_count": 103,
   "id": "bdbf1cbc-473d-470b-bc2a-d3c3eefc13bd",
   "metadata": {},
   "outputs": [
    {
     "data": {
      "text/plain": [
       "Random vector :Tensor Float [3] [ 20.0000   ,  75.0000   ,  7.0000   ]"
      ]
     },
     "metadata": {},
     "output_type": "display_data"
    },
    {
     "data": {
      "text/plain": [
       "classic sum :Tensor Float []  102.0000"
      ]
     },
     "metadata": {},
     "output_type": "display_data"
    }
   ],
   "source": [
    "r <- randintIO' 0 100 [3]\n",
    "putStrLn $ \"Random vector :\" ++ show r\n",
    "\n",
    "let totalSum = F.sumAll r\n",
    "putStrLn $ \"classic sum :\" ++ show totalSum\n",
    "\n",
    "\n"
   ]
  },
  {
   "cell_type": "markdown",
   "id": "2ee87e96-089e-4c2d-a03a-826140d477c8",
   "metadata": {},
   "source": [
    "### 26. Consider two random array A and B, check if they are equal (★★☆)"
   ]
  },
  {
   "cell_type": "code",
   "execution_count": 104,
   "id": "77906101-1fa2-4bfa-a8d2-70ad817a2306",
   "metadata": {},
   "outputs": [
    {
     "data": {
      "text/plain": [
       "a: Tensor Int64 [3] [ 1,  2,  3]"
      ]
     },
     "metadata": {},
     "output_type": "display_data"
    },
    {
     "data": {
      "text/plain": [
       "b: Tensor Int64 [3] [ 1,  2,  3]"
      ]
     },
     "metadata": {},
     "output_type": "display_data"
    },
    {
     "data": {
      "text/plain": [
       "c: Tensor Int64 [3] [ 1,  4,  3]"
      ]
     },
     "metadata": {},
     "output_type": "display_data"
    },
    {
     "data": {
      "text/plain": [
       "False"
      ]
     },
     "metadata": {},
     "output_type": "display_data"
    },
    {
     "data": {
      "text/plain": [
       "True"
      ]
     },
     "metadata": {},
     "output_type": "display_data"
    }
   ],
   "source": [
    "a = asTensor ([1,2,3] :: [Int])\n",
    "b = asTensor ([1,2,3] :: [Int])\n",
    "c = asTensor ([1,4,3] :: [Int])\n",
    "putStrLn $ \"a: \" ++ show a\n",
    "putStrLn $ \"b: \" ++ show b\n",
    "putStrLn $ \"c: \" ++ show c\n",
    "\n",
    "FI.equal a c\n",
    "FI.equal a b"
   ]
  },
  {
   "cell_type": "markdown",
   "id": "33315414-9960-487b-ab45-166a790b1f77",
   "metadata": {},
   "source": [
    "### 27. Make an array immutable (read-only) (★★☆)"
   ]
  },
  {
   "cell_type": "code",
   "execution_count": 105,
   "id": "4c812f3a-ec8c-408a-9796-c80f8d945554",
   "metadata": {},
   "outputs": [
    {
     "data": {
      "text/plain": [
       "Tensor Float [10] [ 0.8836   ,  0.9656   ,  0.9706   ,  0.7786   ,  0.2305   ,  0.7993   ,  0.2564   ,  0.4770   ,  0.7763   ,  4.1399e-2]"
      ]
     },
     "metadata": {},
     "output_type": "display_data"
    }
   ],
   "source": [
    "array <- randIO' [10]\n",
    "immutable_array = F.detach array\n",
    "immutable_array\n"
   ]
  },
  {
   "cell_type": "markdown",
   "id": "a40ece3b-f3ab-4c2e-b80f-371c9890385a",
   "metadata": {},
   "source": [
    "### 28. Consider a random 10x2 matrix representing cartesian coordinates, convert them to polar coordinates (★★☆)"
   ]
  },
  {
   "cell_type": "code",
   "execution_count": 106,
   "id": "4f947539-9ba3-44c1-a909-193503fc3352",
   "metadata": {},
   "outputs": [
    {
     "data": {
      "text/plain": [
       "coords: Tensor Float [10,2] [[ 0.5818   ,  0.4192   ],\n",
       "                     [ 0.1972   ,  0.3556   ],\n",
       "                     [ 0.4746   ,  0.3748   ],\n",
       "                     [ 0.9059   ,  0.6128   ],\n",
       "                     [ 0.7636   ,  0.3778   ],\n",
       "                     [ 8.9589e-2,  0.8996   ],\n",
       "                     [ 0.7239   ,  0.8191   ],\n",
       "                     [ 0.8237   ,  0.1484   ],\n",
       "                     [ 0.6862   ,  1.5767e-2],\n",
       "                     [ 0.3620   ,  0.3054   ]]"
      ]
     },
     "metadata": {},
     "output_type": "display_data"
    }
   ],
   "source": [
    "coords <- randIO' [10,2]\n",
    "putStrLn $ \"coords: \" ++ show coords"
   ]
  },
  {
   "cell_type": "markdown",
   "id": "3e5e68f7-7937-4484-b540-b6ece4875262",
   "metadata": {},
   "source": [
    "### 29. Create random vector of size 10 and replace the maximum value by 0 (★★☆)"
   ]
  },
  {
   "cell_type": "code",
   "execution_count": 107,
   "id": "1000cedf-4954-4d6d-a591-5128deec0a4f",
   "metadata": {},
   "outputs": [
    {
     "data": {
      "text/plain": [
       "random vec: Tensor Float [10] [ 0.6990   ,  0.4617   ,  0.1451   ,  6.8136e-2,  0.5309   ,  0.7884   ,  0.3270   ,  0.8032   ,  0.6625   ,  0.5485   ]"
      ]
     },
     "metadata": {},
     "output_type": "display_data"
    },
    {
     "data": {
      "text/plain": [
       "max index : Tensor Int64 [1] [ 7]"
      ]
     },
     "metadata": {},
     "output_type": "display_data"
    },
    {
     "data": {
      "text/plain": [
       "updated vec: Tensor Float [10] [ 0.6990   ,  0.4617   ,  0.1451   ,  6.8136e-2,  0.5309   ,  0.7884   ,  0.3270   ,  0.0000,  0.6625   ,  0.5485   ]"
      ]
     },
     "metadata": {},
     "output_type": "display_data"
    }
   ],
   "source": [
    "random_vector <- randIO' [10]\n",
    "putStrLn $ \"random vec: \" ++ show random_vector\n",
    "\n",
    "let max_index = F.argmax (Dim 0) KeepDim random_vector\n",
    "putStrLn $ \"max index : \" ++ show max_index\n",
    "\n",
    "let updated_vector = indexPut False [max_index] (asTensor (0.0 :: Float)) random_vector\n",
    "putStrLn $ \"updated vec: \" ++ show updated_vector\n"
   ]
  },
  {
   "cell_type": "markdown",
   "id": "601ba002-0e3c-4dec-8f0a-61697760f202",
   "metadata": {},
   "source": [
    "### 30. Create a structured array with x and y coordinates covering the [0,1]x[0,1] area (★★☆)"
   ]
  },
  {
   "cell_type": "code",
   "execution_count": null,
   "id": "56912001-77ce-4758-a022-ea01f45d7daa",
   "metadata": {},
   "outputs": [],
   "source": []
  },
  {
   "cell_type": "markdown",
   "id": "172aa4af-f6ac-49e7-8658-feb5f50cbc4b",
   "metadata": {},
   "source": [
    "31. Given two arrays, X and Y, construct the Cauchy matrix C (Cij =1/(xi - yj))"
   ]
  },
  {
   "cell_type": "code",
   "execution_count": null,
   "id": "5df68946-d183-4e59-a595-76091a6d53dc",
   "metadata": {},
   "outputs": [],
   "source": []
  },
  {
   "cell_type": "markdown",
   "id": "67bb934b-594a-47fd-af00-ef102ed95d2c",
   "metadata": {},
   "source": [
    "32. Print the minimum and maximum representable value for each numpy scalar type (★★☆)"
   ]
  },
  {
   "cell_type": "code",
   "execution_count": 108,
   "id": "40cf8f29-607f-4d10-bb35-e16c0591f25d",
   "metadata": {},
   "outputs": [
    {
     "ename": "",
     "evalue": "",
     "output_type": "error",
     "traceback": [
      "<interactive>:1:5: error:\n    • Illegal term-level use of the type constructor ‘Int’\n        imported qualified from ‘Prelude’ (and originally defined in ‘GHC.Types’)\n    • In the first argument of ‘min’, namely ‘Int’\n      In the expression: min Int\n      In an equation for ‘it’: it = min Int"
     ]
    }
   ],
   "source": [
    "min Int"
   ]
  },
  {
   "cell_type": "markdown",
   "id": "262e67b8-f2a4-4bf8-8acd-02e4af2c0a4d",
   "metadata": {},
   "source": [
    "33. How to print all the values of an array? (★★☆)"
   ]
  },
  {
   "cell_type": "code",
   "execution_count": null,
   "id": "ba8d20bf-0762-4fde-9d07-04551517307b",
   "metadata": {},
   "outputs": [
    {
     "data": {
      "text/plain": [
       "\"Tensor Float [10,10] [[ 4.2101e-2,  0.1364   ,  0.8351   ,  0.7265   ,  0.4110   ,  9.5859e-2,  7.3156e-2,  0.4243   ,  0.3781   ,  0.1783   ],\\n                      [ 0.2356   ,  0.5059   ,  0.2627   ,  6.0479e-2,  0.5309   ,  0.8835   ,  0.8153   ,  5.2713e-3,  0.3851   ,  9.6105e-2],\\n                      [ 0.2151   ,  0.7949   ,  0.2966   ,  0.4523   ,  0.4344   ,  0.6595   ,  0.7234   ,  0.8118   ,  0.2277   ,  0.8960   ],\\n                      [ 0.1658   ,  0.2657   ,  0.3455   ,  0.1003   ,  0.4499   ,  0.2608   ,  0.5176   ,  0.8086   ,  0.9068   ,  0.8652   ],\\n                      [ 0.5168   ,  0.6296   ,  0.3142   ,  0.7647   ,  0.7399   ,  0.7809   ,  0.3726   ,  5.5976e-2,  0.4022   ,  0.3812   ],\\n                      [ 0.6624   ,  0.4089   ,  7.1256e-2,  0.2138   ,  0.8987   ,  0.4830   ,  6.6030e-3,  0.8033   ,  0.4609   ,  0.2141   ],\\n                      [ 0.4035   ,  0.1247   ,  0.2036   ,  9.2389e-2,  0.9562   ,  0.1714   ,  0.2966   ,  0.2364   ,  0.1361   ,  0.1333   ],\\n                      [ 8.4888e-2,  0.6196   ,  0.6838   ,  0.6838   ,  0.8054   ,  0.3370   ,  0.9713   ,  2.7712e-2,  0.7147   ,  0.5732   ],\\n                      [ 0.1202   ,  0.8014   ,  0.3078   ,  0.4090   ,  0.9758   ,  0.6281   ,  0.9450   ,  0.3339   ,  0.6301   ,  0.3415   ],\\n                      [ 0.1469   ,  0.5354   ,  0.8993   ,  0.5828   ,  0.3934   ,  0.8090   ,  4.9870e-2,  8.7307e-2,  0.4902   ,  8.5171e-2]]\""
      ]
     },
     "metadata": {},
     "output_type": "display_data"
    }
   ],
   "source": [
    "a <- randIO' [10,10]\n",
    "show a"
   ]
  },
  {
   "cell_type": "markdown",
   "id": "72f3afd1-9199-4e59-aeb6-3411a5747221",
   "metadata": {},
   "source": [
    "34. How to find the closest value (to a given scalar) in a vector? (★★☆)"
   ]
  },
  {
   "cell_type": "code",
   "execution_count": null,
   "id": "03d2757a-ac96-400b-b159-9f9b8cd2668b",
   "metadata": {},
   "outputs": [
    {
     "data": {
      "text/plain": [
       "random vec: Tensor Float [10] [ 0.1919   ,  6.5217e-2,  0.9025   ,  0.9217   ,  0.3365   ,  0.8342   ,  0.5627   ,  0.1157   ,  0.9621   ,  0.2557   ]"
      ]
     },
     "metadata": {},
     "output_type": "display_data"
    },
    {
     "data": {
      "text/plain": [
       "value : Tensor Float [1] [ 0.1230   ]"
      ]
     },
     "metadata": {},
     "output_type": "display_data"
    },
    {
     "data": {
      "text/plain": [
       " closest value : Tensor Float []  0.1157"
      ]
     },
     "metadata": {},
     "output_type": "display_data"
    }
   ],
   "source": [
    "random_vec <- randIO' [10]\n",
    "value <- randIO' [1] \n",
    "putStrLn $ \"random vec: \" ++ show random_vec\n",
    "putStrLn $ \"value : \" ++ show value\n",
    "\n",
    "tab = F.abs (F.abs value - random_vec)\n",
    "closest_value = F.index [(F.argmin tab 0 False)] random_vec\n",
    "\n",
    "putStrLn $ \" closest value : \" ++ show closest_value\n",
    "\n"
   ]
  },
  {
   "cell_type": "code",
   "execution_count": null,
   "id": "d9bfb7bf",
   "metadata": {},
   "outputs": [
    {
     "ename": "",
     "evalue": "",
     "output_type": "error",
     "traceback": [
      "<interactive>:1:14: error:\n    • Couldn't match expected type ‘t0 [[a]]’ with actual type ‘Tensor’\n    • In the third argument of ‘foldl’, namely ‘a’\n      In the expression: foldl (:) [] a\n      In an equation for ‘it’: it = foldl (:) [] a\n    • Relevant bindings include it :: [a] (bound at <interactive>:1:1)"
     ]
    }
   ],
   "source": []
  },
  {
   "cell_type": "markdown",
   "id": "84e1a0f3-65f5-45db-961e-5c35ccb70eb3",
   "metadata": {},
   "source": [
    "35. Create a structured array representing a position (x,y) and a color (r,g,b) (★★☆)"
   ]
  },
  {
   "cell_type": "code",
   "execution_count": null,
   "id": "3356ff60-38f9-46b8-a455-ff44175fde85",
   "metadata": {},
   "outputs": [],
   "source": [
    "data PositionColor = PositionColor {\n",
    "    position :: (Float, Float),   \n",
    "    color :: (Float, Float, Float) \n",
    "} deriving (Show)"
   ]
  },
  {
   "cell_type": "markdown",
   "id": "c196ebf6-02d2-4f97-bb9c-3552b7790806",
   "metadata": {},
   "source": [
    "36. Consider a random vector with shape (100,2) representing coordinates, find point by point distances (★★☆)"
   ]
  },
  {
   "cell_type": "code",
   "execution_count": null,
   "id": "6f564776-f859-4813-b5ba-96010d9c4c79",
   "metadata": {},
   "outputs": [
    {
     "data": {
      "text/plain": [
       "random vec: Tensor Float [100,2] [[ 0.4989   ,  0.9681   ],\n",
       "                      [ 0.1982   ,  0.5392   ],\n",
       "                      [ 0.7412   ,  0.9747   ],\n",
       "                      [ 0.2617   ,  0.4374   ],\n",
       "                      [ 3.6270e-2,  0.9420   ],\n",
       "                      [ 0.3627   ,  0.6292   ],\n",
       "                      [ 0.4458   ,  0.8418   ],\n",
       "                      [ 5.4903e-2,  0.3550   ],\n",
       "                      [ 0.1980   ,  0.7416   ],\n",
       "                      [ 0.4793   ,  0.5648   ],\n",
       "                      [ 7.6838e-2,  0.2896   ],\n",
       "                      [ 0.8218   ,  0.4801   ],\n",
       "                      [ 0.4480   ,  0.8065   ],\n",
       "                      [ 0.4854   ,  0.2479   ],\n",
       "                      [ 0.1670   ,  6.9990e-3],\n",
       "                      [ 0.9758   ,  0.8600   ],\n",
       "                      [ 3.1961e-2,  2.4135e-2],\n",
       "                      [ 0.4292   ,  0.7878   ],\n",
       "                      [ 0.1372   ,  0.3153   ],\n",
       "                      [ 0.7255   ,  0.3782   ],\n",
       "                      [ 3.4127e-2,  0.1129   ],\n",
       "                      [ 0.3558   ,  7.0119e-2],\n",
       "                      [ 0.1347   ,  0.5923   ],\n",
       "                      [ 0.7239   ,  0.3984   ],\n",
       "                      [ 0.3052   ,  0.9260   ],\n",
       "                      [ 0.6383   ,  0.6461   ],\n",
       "                      [ 0.8346   ,  0.7217   ],\n",
       "                      [ 0.9781   ,  0.8380   ],\n",
       "                      [ 0.4685   ,  0.2212   ],\n",
       "                      [ 0.1419   ,  0.9054   ],\n",
       "                      [ 0.9487   ,  3.0556e-2],\n",
       "                      [ 0.8110   ,  0.2107   ],\n",
       "                      [ 0.5829   ,  3.1195e-2],\n",
       "                      [ 0.7316   ,  0.3967   ],\n",
       "                      [ 0.8079   ,  0.6526   ],\n",
       "                      [ 0.9739   ,  0.2258   ],\n",
       "                      [ 0.4341   ,  0.9875   ],\n",
       "                      [ 0.2644   ,  0.5865   ],\n",
       "                      [ 0.4334   ,  0.7812   ],\n",
       "                      [ 1.1170e-2,  0.5549   ],\n",
       "                      [ 0.4828   ,  0.8664   ],\n",
       "                      [ 0.8596   ,  7.2796e-2],\n",
       "                      [ 0.8035   ,  0.4173   ],\n",
       "                      [ 0.6070   ,  0.6268   ],\n",
       "                      [ 0.3782   ,  0.2960   ],\n",
       "                      [ 5.7336e-2,  0.4105   ],\n",
       "                      [ 0.1563   ,  0.7854   ],\n",
       "                      [ 0.3874   ,  7.2354e-2],\n",
       "                      [ 0.3175   ,  0.6042   ],\n",
       "                      [ 0.7866   ,  0.1781   ],\n",
       "                      [ 0.4089   ,  0.2353   ],\n",
       "                      [ 0.3067   ,  1.7516e-2],\n",
       "                      [ 0.2878   ,  0.6569   ],\n",
       "                      [ 0.8564   ,  0.8790   ],\n",
       "                      [ 0.8709   ,  0.7555   ],\n",
       "                      [ 0.9589   ,  0.8694   ],\n",
       "                      [ 0.3366   ,  0.3116   ],\n",
       "                      [ 8.6899e-2,  0.6962   ],\n",
       "                      [ 0.5859   ,  0.3981   ],\n",
       "                      [ 0.2342   ,  0.9310   ],\n",
       "                      [ 0.2894   ,  0.4300   ],\n",
       "                      [ 0.5388   ,  0.2082   ],\n",
       "                      [ 0.6850   ,  0.6272   ],\n",
       "                      [ 1.1359e-3,  0.6820   ],\n",
       "                      [ 0.3275   ,  0.7743   ],\n",
       "                      [ 2.7612e-2,  0.7536   ],\n",
       "                      [ 0.3811   ,  0.1355   ],\n",
       "                      [ 0.6800   ,  0.7573   ],\n",
       "                      [ 0.1468   ,  0.7124   ],\n",
       "                      [ 0.3938   ,  0.5915   ],\n",
       "                      [ 0.7756   ,  0.5780   ],\n",
       "                      [ 0.4980   ,  6.3226e-2],\n",
       "                      [ 0.3075   ,  0.7239   ],\n",
       "                      [ 0.3062   ,  0.7889   ],\n",
       "                      [ 0.7587   ,  0.1946   ],\n",
       "                      [ 3.2234e-2,  0.1228   ],\n",
       "                      [ 0.6370   ,  0.4993   ],\n",
       "                      [ 0.7628   ,  0.4839   ],\n",
       "                      [ 0.8571   ,  0.1404   ],\n",
       "                      [ 0.4653   ,  0.2015   ],\n",
       "                      [ 1.1567e-2,  0.1148   ],\n",
       "                      [ 0.5962   ,  0.5394   ],\n",
       "                      [ 0.9985   ,  0.2503   ],\n",
       "                      [ 0.1629   ,  0.9235   ],\n",
       "                      [ 4.6261e-2,  0.1914   ],\n",
       "                      [ 0.9124   ,  0.6511   ],\n",
       "                      [ 0.5473   ,  0.4285   ],\n",
       "                      [ 0.5629   ,  0.8821   ],\n",
       "                      [ 0.6392   ,  0.6717   ],\n",
       "                      [ 0.6041   ,  0.9732   ],\n",
       "                      [ 3.9013e-2,  1.1707e-2],\n",
       "                      [ 0.8550   ,  0.2378   ],\n",
       "                      [ 0.4046   ,  5.6982e-2],\n",
       "                      [ 0.9028   ,  0.9528   ],\n",
       "                      [ 0.5271   ,  0.6037   ],\n",
       "                      [ 0.1200   ,  0.8782   ],\n",
       "                      [ 0.3020   ,  3.1924e-2],\n",
       "                      [ 0.7328   ,  0.5106   ],\n",
       "                      [ 0.3118   ,  0.3096   ],\n",
       "                      [ 0.8464   ,  0.5477   ]]"
      ]
     },
     "metadata": {},
     "output_type": "display_data"
    }
   ],
   "source": [
    "random_vector <- randIO' [100,2]\n",
    "putStrLn $ \"random vec: \" ++ show random_vector\n",
    "\n"
   ]
  },
  {
   "cell_type": "markdown",
   "id": "004e31df-9fe8-45fe-b488-5fc85f7640a7",
   "metadata": {},
   "source": [
    "37. How to convert a float (32 bits) array into an integer (32 bits) in place?"
   ]
  },
  {
   "cell_type": "code",
   "execution_count": null,
   "id": "48ac0899-5e1c-42aa-8c91-e6685b7e1a83",
   "metadata": {},
   "outputs": [
    {
     "ename": "",
     "evalue": "",
     "output_type": "error",
     "traceback": [
      "CppStdException e \"Could not run 'aten::int_repr' with arguments from the 'CPU' backend. This could be because the operator doesn't exist for this backend, or was omitted during the selective/custom build process (if using custom build). If you are a Facebook employee using PyTorch on mobile, please visit https://fburl.com/ptmfixes for possible resolutions. 'aten::int_repr' is only available for these backends: [QuantizedCPU, BackendSelect, Python, Named, Conjugate, Negative, ZeroTensor, ADInplaceOrView, AutogradOther, AutogradCPU, AutogradCUDA, AutogradXLA, AutogradLazy, AutogradXPU, AutogradMLC, AutogradHPU, AutogradNestedTensor, AutogradPrivateUse1, AutogradPrivateUse2, AutogradPrivateUse3, Tracer, AutocastCPU, Autocast, Batched, VmapMode, Functionalize].\\n\\nQuantizedCPU: registered at aten/src/ATen/RegisterQuantizedCPU.cpp:1258 [kernel]\\nBackendSelect: fallthrough registered at ../aten/src/ATen/core/BackendSelectFallbackKernel.cpp:3 [backend fallback]\\nPython: registered at ../aten/src/ATen/core/PythonFallbackKernel.cpp:47 [backend fallback]\\nNamed: registered at ../aten/src/ATen/core/NamedRegistrations.cpp:7 [backend fallback]\\nConjugate: registered at ../aten/src/ATen/ConjugateFallback.cpp:18 [backend fallback]\\nNegative: registered at ../aten/src/ATen/native/NegateFallback.cpp:18 [backend fallback]\\nZeroTensor: registered at ../aten/src/ATen/ZeroTensorFallback.cpp:86 [backend fallback]\\nADInplaceOrView: fallthrough registered at ../aten/src/ATen/core/VariableFallbackKernel.cpp:64 [backend fallback]\\nAutogradOther: registered at ../torch/csrc/autograd/generated/VariableType_0.cpp:9932 [autograd kernel]\\nAutogradCPU: registered at ../torch/csrc/autograd/generated/VariableType_0.cpp:9932 [autograd kernel]\\nAutogradCUDA: registered at ../torch/csrc/autograd/generated/VariableType_0.cpp:9932 [autograd kernel]\\nAutogradXLA: registered at ../torch/csrc/autograd/generated/VariableType_0.cpp:9932 [autograd kernel]\\nAutogradLazy: registered at ../torch/csrc/autograd/generated/VariableType_0.cpp:9932 [autograd kernel]\\nAutogradXPU: registered at ../torch/csrc/autograd/generated/VariableType_0.cpp:9932 [autograd kernel]\\nAutogradMLC: registered at ../torch/csrc/autograd/generated/VariableType_0.cpp:9932 [autograd kernel]\\nAutogradHPU: registered at ../torch/csrc/autograd/generated/VariableType_0.cpp:9932 [autograd kernel]\\nAutogradNestedTensor: registered at ../torch/csrc/autograd/generated/VariableType_0.cpp:9932 [autograd kernel]\\nAutogradPrivateUse1: registered at ../torch/csrc/autograd/generated/VariableType_0.cpp:9932 [autograd kernel]\\nAutogradPrivateUse2: registered at ../torch/csrc/autograd/generated/VariableType_0.cpp:9932 [autograd kernel]\\nAutogradPrivateUse3: registered at ../torch/csrc/autograd/generated/VariableType_0.cpp:9932 [autograd kernel]\\nTracer: registered at ../torch/csrc/autograd/generated/TraceType_0.cpp:11618 [kernel]\\nAutocastCPU: fallthrough registered at ../aten/src/ATen/autocast_mode.cpp:461 [backend fallback]\\nAutocast: fallthrough registered at ../aten/src/ATen/autocast_mode.cpp:305 [backend fallback]\\nBatched: registered at ../aten/src/ATen/BatchingRegistrations.cpp:1059 [backend fallback]\\nVmapMode: fallthrough registered at ../aten/src/ATen/VmapModeRegistrations.cpp:33 [backend fallback]\\nFunctionalize: registered at ../aten/src/ATen/FunctionalizeFallbackKernel.cpp:52 [backend fallback]\\n\\nException raised from reportError at ../aten/src/ATen/core/dispatch/OperatorEntry.cpp:434 (most recent call first):\\nframe #0: c10::Error::Error(c10::SourceLocation, std::__cxx11::basic_string<char, std::char_traits<char>, std::allocator<char> >) + 0x6b (0x7fffe46d77ab in /lib/libc10.so)\\nframe #1: c10::impl::OperatorEntry::reportError(c10::DispatchKey) const + 0xa48 (0x7fff91fcffc8 in /lib/libtorch_cpu.so)\\nframe #2: <unknown function> + 0x31082f3 (0x7fff93f532f3 in /lib/libtorch_cpu.so)\\nframe #3: <unknown function> + 0x19081b9 (0x7fff927531b9 in /lib/libtorch_cpu.so)\\nframe #4: at::_ops::int_repr::call(at::Tensor const&) + 0x24a (0x7fff926f4aea in /lib/libtorch_cpu.so)\\nframe #5: inline_c_Torch_Internal_Unmanaged_Native_Native8_13 + 0x42 (0x7fffdecd1175 in /home/ubuntu/.cabal/lib/x86_64-linux-ghc-9.2.5/libHSlibtorch-ffi-1.11.0.0-F9DoUqwdg6nIMuLWcFQ8mU-ghc9.2.5.so)\\nframe #6: <unknown function> + 0xf00516 (0x7fffdecc0516 in /home/ubuntu/.cabal/lib/x86_64-linux-ghc-9.2.5/libHSlibtorch-ffi-1.11.0.0-F9DoUqwdg6nIMuLWcFQ8mU-ghc9.2.5.so)\\n\"(Just \"c10::NotImplementedError\")"
     ]
    }
   ],
   "source": [
    "array <- randIO' [10]\n",
    "int_array = FI.int_repr array\n",
    "int_array"
   ]
  },
  {
   "cell_type": "markdown",
   "id": "f97bd4c5-4927-4d77-bcd3-a7da90b7398b",
   "metadata": {},
   "source": [
    "38. What is the equivalent of enumerate for numpy arrays? (★★☆)"
   ]
  },
  {
   "cell_type": "code",
   "execution_count": null,
   "id": "cd1eb29b-ab12-44bd-a218-05749355277a",
   "metadata": {},
   "outputs": [],
   "source": []
  },
  {
   "cell_type": "markdown",
   "id": "583a4a15-1744-4226-97d0-56f510c7f8cd",
   "metadata": {},
   "source": [
    "39. Generate a generic 2D Gaussian-like array (★★☆)"
   ]
  },
  {
   "cell_type": "code",
   "execution_count": null,
   "id": "5db7d50b-7e7f-4605-b603-84b417f8cc41",
   "metadata": {},
   "outputs": [],
   "source": []
  },
  {
   "cell_type": "markdown",
   "id": "39eadfe8-f112-4fee-9231-d3a93cd1ab3f",
   "metadata": {},
   "source": [
    "40. How to randomly place p elements in a 2D array? (★★☆)"
   ]
  },
  {
   "cell_type": "code",
   "execution_count": null,
   "id": "170dd022-8a33-4445-bba2-5cd4d278348e",
   "metadata": {},
   "outputs": [],
   "source": []
  },
  {
   "cell_type": "markdown",
   "id": "47d6304f-7a48-4f60-ac11-558ade206803",
   "metadata": {},
   "source": [
    "41. Subtract the mean of each row of a matrix (★★☆)"
   ]
  },
  {
   "cell_type": "code",
   "execution_count": null,
   "id": "6fa4b368-7114-4f6a-a456-fbc08a5313e7",
   "metadata": {},
   "outputs": [],
   "source": []
  },
  {
   "cell_type": "markdown",
   "id": "046f379c-f30f-4cf7-b216-95ca6db47f72",
   "metadata": {},
   "source": [
    "42. How to sort an array by the nth column? (★★☆)"
   ]
  },
  {
   "cell_type": "code",
   "execution_count": null,
   "id": "07f78b84-f3de-4af1-91fe-e09d1a6c5992",
   "metadata": {},
   "outputs": [],
   "source": []
  },
  {
   "cell_type": "markdown",
   "id": "b0c28d22-be8f-4c9e-b20d-bf168a47af66",
   "metadata": {},
   "source": [
    "43. How to tell if a given 2D array has null columns? (★★☆)"
   ]
  },
  {
   "cell_type": "code",
   "execution_count": null,
   "id": "75e26a65-448d-4aca-bbcf-58d2805d4350",
   "metadata": {},
   "outputs": [],
   "source": []
  },
  {
   "cell_type": "markdown",
   "id": "ca48cbb1-84a1-4fd2-85ad-9ecc6cec5223",
   "metadata": {},
   "source": [
    "44. Find the nearest value from a given value in an array (★★☆)"
   ]
  },
  {
   "cell_type": "code",
   "execution_count": null,
   "id": "93773309-445e-463c-b9dc-1c366044b072",
   "metadata": {},
   "outputs": [],
   "source": []
  },
  {
   "cell_type": "markdown",
   "id": "a0d258ff-322e-4fbb-bbda-29f24f5c0e89",
   "metadata": {},
   "source": [
    "45. Considering two arrays with shape (1,3) and (3,1), how to compute their sum using an iterator? (★★☆)"
   ]
  },
  {
   "cell_type": "code",
   "execution_count": null,
   "id": "ae4d3751-6c32-44e5-8f27-9df9c8211d82",
   "metadata": {},
   "outputs": [],
   "source": []
  },
  {
   "cell_type": "markdown",
   "id": "3b6273c8-e13a-4786-aed6-98c545945ec7",
   "metadata": {},
   "source": [
    "46. Create an array class that has a name attribute (★★☆)"
   ]
  },
  {
   "cell_type": "code",
   "execution_count": null,
   "id": "325fedf4-005b-4e2e-9ee0-c1da006fa884",
   "metadata": {},
   "outputs": [],
   "source": []
  },
  {
   "cell_type": "markdown",
   "id": "9fb89c4f-2644-49ad-8791-8203c067d52e",
   "metadata": {},
   "source": [
    "47. Consider a given vector, how to add 1 to each element indexed by a second vector (be careful with repeated indices)? (★★★)"
   ]
  },
  {
   "cell_type": "code",
   "execution_count": null,
   "id": "698b5bbb-0a07-4aa9-a78a-63505e6913d1",
   "metadata": {},
   "outputs": [],
   "source": []
  },
  {
   "cell_type": "markdown",
   "id": "997e78ec-ae57-4c48-aa3d-2a19a2db60c7",
   "metadata": {},
   "source": [
    "48. How to accumulate elements of a vector (X) to an array (F) based on an index list (I)? (★★★)"
   ]
  },
  {
   "cell_type": "code",
   "execution_count": null,
   "id": "ec3ce6ec-db11-4569-ba03-9d1d19b990f4",
   "metadata": {},
   "outputs": [],
   "source": []
  },
  {
   "cell_type": "markdown",
   "id": "7a72fe96-ad57-4544-8b82-a49cb789c4f2",
   "metadata": {},
   "source": [
    "49. Considering a (w,h,3) image of (dtype=ubyte), compute the number of unique colors (★★☆)"
   ]
  },
  {
   "cell_type": "code",
   "execution_count": null,
   "id": "fe565d80-9538-4cc9-97e7-6a15bd1c7474",
   "metadata": {},
   "outputs": [],
   "source": []
  },
  {
   "cell_type": "markdown",
   "id": "f4353ea0-15b7-4f32-ac55-36e9c93d9657",
   "metadata": {},
   "source": [
    "50. Considering a four dimensions array, how to get sum over the last two axis at once? (★★★)"
   ]
  },
  {
   "cell_type": "code",
   "execution_count": null,
   "id": "b8af3ff7-458a-4a30-b83a-30cbf741fdb6",
   "metadata": {},
   "outputs": [],
   "source": []
  },
  {
   "cell_type": "markdown",
   "id": "8187ca39-de94-46cc-8530-14956d8d4b8a",
   "metadata": {},
   "source": [
    "51. Considering a one-dimensional vector D, how to compute means of subsets of D using a vector S of same size describing subset indices? (★★★)"
   ]
  },
  {
   "cell_type": "code",
   "execution_count": null,
   "id": "a70c6aea-1d17-446e-ab8b-d478873471f8",
   "metadata": {},
   "outputs": [],
   "source": []
  },
  {
   "cell_type": "markdown",
   "id": "79ee0568-febd-4987-b1fa-c535556b1e79",
   "metadata": {},
   "source": [
    "52. How to get the diagonal of a dot product? (★★★)"
   ]
  },
  {
   "cell_type": "code",
   "execution_count": null,
   "id": "c9f5cfe5-3dd9-476d-8069-f8fc88e03bbe",
   "metadata": {},
   "outputs": [],
   "source": []
  },
  {
   "cell_type": "markdown",
   "id": "4282532c-66c9-4e3c-b019-346f021ab040",
   "metadata": {},
   "source": [
    "53. Consider the vector [1, 2, 3, 4, 5], how to build a new vector with 3 consecutive zeros interleaved between each value? (★★★)"
   ]
  },
  {
   "cell_type": "code",
   "execution_count": null,
   "id": "4e66eda6-6d0b-41af-8951-8e9286e4a8ec",
   "metadata": {},
   "outputs": [],
   "source": []
  },
  {
   "cell_type": "markdown",
   "id": "be04bd76-40b0-4739-bef8-0dba4c579de9",
   "metadata": {},
   "source": [
    "54. Consider an array of dimension (5,5,3), how to mulitply it by an array with dimensions (5,5)? (★★★)"
   ]
  },
  {
   "cell_type": "code",
   "execution_count": null,
   "id": "e26a9689-373b-4ab0-a127-38ece6855dfa",
   "metadata": {},
   "outputs": [],
   "source": []
  },
  {
   "cell_type": "markdown",
   "id": "b1341d17-9b67-416d-8f4c-4eaaf8631328",
   "metadata": {},
   "source": [
    "55. How to swap two rows of an array? (★★★)"
   ]
  },
  {
   "cell_type": "code",
   "execution_count": null,
   "id": "9a4a85aa-fad4-4eb7-bb18-e0930afe5aa5",
   "metadata": {},
   "outputs": [],
   "source": []
  },
  {
   "cell_type": "markdown",
   "id": "daf8b5af-e574-4226-9564-c381855dd924",
   "metadata": {},
   "source": [
    "56. Consider a set of 10 triplets describing 10 triangles (with shared vertices), find the set of unique line segments composing all the triangles (★★★)"
   ]
  },
  {
   "cell_type": "code",
   "execution_count": null,
   "id": "dfd57ed1-c4e6-4c0c-a2db-3d716f7996f8",
   "metadata": {},
   "outputs": [],
   "source": []
  },
  {
   "cell_type": "markdown",
   "id": "5f3cde16-3990-46ba-8e31-7fe393a648a0",
   "metadata": {},
   "source": [
    "57. Given a sorted array C that corresponds to a bincount, how to produce an array A such that np.bincount(A) == C? (★★★)"
   ]
  },
  {
   "cell_type": "code",
   "execution_count": null,
   "id": "e5171f1e-96b6-4100-bf6a-ef8606407011",
   "metadata": {},
   "outputs": [],
   "source": []
  },
  {
   "cell_type": "markdown",
   "id": "66b330f5-8719-442d-8863-2876d7374c26",
   "metadata": {},
   "source": [
    "58. How to compute averages using a sliding window over an array? (★★★)"
   ]
  },
  {
   "cell_type": "code",
   "execution_count": null,
   "id": "93439d76-1e53-4ba3-bb6b-e040f3e121a7",
   "metadata": {},
   "outputs": [],
   "source": []
  },
  {
   "cell_type": "markdown",
   "id": "16e4c6b3-8fdc-4cd1-a8eb-c04b9b43d7eb",
   "metadata": {},
   "source": [
    "59. Consider a one-dimensional array Z, build a two-dimensional array whose first row is (Z[0],Z[1],Z[2]) and each subsequent row is shifted by 1 (last row should be (Z[-3],Z[-2],Z[-1]) (★★★)"
   ]
  },
  {
   "cell_type": "code",
   "execution_count": null,
   "id": "c0e905ce-31cd-4cbf-8b0f-6de18bccec66",
   "metadata": {},
   "outputs": [],
   "source": []
  },
  {
   "cell_type": "markdown",
   "id": "2b9694ee-fae1-42d7-b51c-b170261f6858",
   "metadata": {},
   "source": [
    "60. How to negate a boolean, or to change the sign of a float inplace? (★★★)"
   ]
  },
  {
   "cell_type": "code",
   "execution_count": null,
   "id": "a637c78d-bcf8-4930-8d03-43f8db452e3d",
   "metadata": {},
   "outputs": [],
   "source": []
  },
  {
   "cell_type": "markdown",
   "id": "48f79470-ba31-4fd0-aac5-481cbe524549",
   "metadata": {},
   "source": [
    "61. Consider 2 sets of points P0,P1 describing lines (2d) and a point p, how to compute distance from p to each line i (P0[i],P1[i])? (★★★)"
   ]
  },
  {
   "cell_type": "code",
   "execution_count": null,
   "id": "1a92ae7f-3897-4cc4-b4e1-1705933c6e14",
   "metadata": {},
   "outputs": [],
   "source": []
  },
  {
   "cell_type": "markdown",
   "id": "2aa594bf-49cb-4442-9859-142cb4aa003d",
   "metadata": {},
   "source": [
    "62. Consider 2 sets of points P0,P1 describing lines (2d) and a set of points P, how to compute distance from each point j (P[j]) to each line i (P0[i],P1[i])? (★★★)"
   ]
  },
  {
   "cell_type": "code",
   "execution_count": null,
   "id": "6cc68531-be11-4143-9299-cfa9c9062046",
   "metadata": {},
   "outputs": [],
   "source": []
  },
  {
   "cell_type": "markdown",
   "id": "ff838dfa-cc35-4836-a7a4-057f48af8bdf",
   "metadata": {},
   "source": [
    "63. Consider an arbitrary array, write a function that extract a subpart with a fixed shape and centered on a given element (pad with a fill value when necessary) (★★★)"
   ]
  },
  {
   "cell_type": "code",
   "execution_count": null,
   "id": "f302aabd-321b-4f6e-bb6b-1a8eda0b9715",
   "metadata": {},
   "outputs": [],
   "source": []
  },
  {
   "cell_type": "markdown",
   "id": "ad5dfb9d-b893-451c-83ff-d386cba562a0",
   "metadata": {},
   "source": [
    "64. Consider an array Z = [1,2,3,4,5,6,7,8,9,10,11,12,13,14], how to generate an array R = [[1,2,3,4], [2,3,4,5], [3,4,5,6], ..., [11,12,13,14]]? (★★★)"
   ]
  },
  {
   "cell_type": "code",
   "execution_count": null,
   "id": "140d7ac7-9d3e-4e0e-9908-80feef71cedd",
   "metadata": {},
   "outputs": [],
   "source": []
  },
  {
   "cell_type": "markdown",
   "id": "d78e911d-b81b-4e84-ad19-79c35e593675",
   "metadata": {},
   "source": [
    "65. Compute a matrix rank (★★★)"
   ]
  },
  {
   "cell_type": "code",
   "execution_count": null,
   "id": "737a8e49-2c5d-4e3a-bd17-789327f9f673",
   "metadata": {},
   "outputs": [],
   "source": []
  },
  {
   "cell_type": "markdown",
   "id": "1ee76633-a1ef-42b5-b577-730157cf7234",
   "metadata": {},
   "source": [
    "66. How to find the most frequent value in an array?"
   ]
  },
  {
   "cell_type": "code",
   "execution_count": null,
   "id": "5c59ed3f-241c-4676-8c21-ca90f170b43f",
   "metadata": {},
   "outputs": [],
   "source": []
  },
  {
   "cell_type": "markdown",
   "id": "815ca0ef-f7ed-4c6b-8977-ecabb310bd28",
   "metadata": {},
   "source": [
    "67. Extract all the contiguous 3x3 blocks from a random 10x10 matrix (★★★)"
   ]
  },
  {
   "cell_type": "code",
   "execution_count": null,
   "id": "c93bee29-09f6-4b65-8ad4-3d9bb5a9f110",
   "metadata": {},
   "outputs": [],
   "source": []
  },
  {
   "cell_type": "markdown",
   "id": "11712841-86f2-4a25-99f9-84a78e2f6587",
   "metadata": {},
   "source": [
    "68. Create a 2D array subclass such that Z[i,j] == Z[j,i] (★★★)"
   ]
  },
  {
   "cell_type": "code",
   "execution_count": null,
   "id": "81de2d37-d541-4051-9980-c2103aa75807",
   "metadata": {},
   "outputs": [],
   "source": []
  },
  {
   "cell_type": "markdown",
   "id": "0495f2c9-3f2d-4902-886a-d922edda04d6",
   "metadata": {},
   "source": [
    "69. Consider a set of p matrices wich shape (n,n) and a set of p vectors with shape (n,1). How to compute the sum of of the p matrix products at once? (result has shape (n,1)) (★★★)"
   ]
  },
  {
   "cell_type": "code",
   "execution_count": null,
   "id": "54f416e2-c4e5-4871-8984-78a917bcae19",
   "metadata": {},
   "outputs": [],
   "source": []
  },
  {
   "cell_type": "markdown",
   "id": "0a10ae39-2467-4faa-bd24-0744a56b6d27",
   "metadata": {},
   "source": [
    "70. Consider a 16x16 array, how to get the block-sum (block size is 4x4)? (★★★)"
   ]
  },
  {
   "cell_type": "code",
   "execution_count": null,
   "id": "e37758e3-d29c-4381-80ac-55191f10454a",
   "metadata": {},
   "outputs": [],
   "source": []
  },
  {
   "cell_type": "markdown",
   "id": "814bc5f1-bfa0-4d96-8102-858b9d1328e6",
   "metadata": {},
   "source": [
    "71. How to implement the Game of Life using numpy arrays? (★★★)"
   ]
  },
  {
   "cell_type": "code",
   "execution_count": null,
   "id": "6846bc35-404e-476e-94ca-6c85b015c058",
   "metadata": {},
   "outputs": [],
   "source": []
  },
  {
   "cell_type": "markdown",
   "id": "cf032f4e-a042-4732-9d19-062c3ef59bde",
   "metadata": {},
   "source": [
    "72. How to get the n largest values of an array (★★★)"
   ]
  },
  {
   "cell_type": "code",
   "execution_count": null,
   "id": "8108c226-910e-4164-b143-7b64803b6ca2",
   "metadata": {},
   "outputs": [],
   "source": []
  },
  {
   "cell_type": "markdown",
   "id": "29cb120f-67e3-458d-bd82-faf4df52759d",
   "metadata": {},
   "source": [
    "73. Given an arbitrary number of vectors, build the cartesian product (every combinations of every item) (★★★)"
   ]
  },
  {
   "cell_type": "code",
   "execution_count": null,
   "id": "dd87e2cc-ff8e-415c-951a-5c2674bd9ada",
   "metadata": {},
   "outputs": [],
   "source": []
  },
  {
   "cell_type": "markdown",
   "id": "aebe279f-df77-4eaa-9b5b-3afbb09330de",
   "metadata": {},
   "source": [
    "74. How to create a record array from a regular array? (★★★)"
   ]
  },
  {
   "cell_type": "code",
   "execution_count": null,
   "id": "3b28f8e8-5cb5-4919-9adb-61ffa9c2d817",
   "metadata": {},
   "outputs": [],
   "source": []
  },
  {
   "cell_type": "markdown",
   "id": "452e7cfa-d8a1-4d9f-b01d-35a323a9e1ac",
   "metadata": {},
   "source": [
    "75. Consider a large vector Z, compute Z to the power of 3 using 3 different methods (★★★)"
   ]
  },
  {
   "cell_type": "code",
   "execution_count": null,
   "id": "f35ee891-6894-4682-af60-a22e5a23827d",
   "metadata": {},
   "outputs": [],
   "source": []
  },
  {
   "cell_type": "markdown",
   "id": "359139d1-b15e-474e-a958-69e6eda81498",
   "metadata": {},
   "source": [
    "76. Consider two arrays A and B of shape (8,3) and (2,2). How to find rows of A that contain elements of each row of B regardless of the order of the elements in B? (★★★)"
   ]
  },
  {
   "cell_type": "code",
   "execution_count": null,
   "id": "8e7576ba-3f86-4911-a86f-fee2f5426b4d",
   "metadata": {},
   "outputs": [],
   "source": []
  },
  {
   "cell_type": "markdown",
   "id": "c2cfa7e9-c06c-47bf-8a21-7be4cb29e5da",
   "metadata": {},
   "source": [
    "77. Considering a 10x3 matrix, extract rows with unequal values (e.g. [2,2,3]) (★★★)"
   ]
  },
  {
   "cell_type": "code",
   "execution_count": null,
   "id": "c8c371a8-760a-44df-913f-eab8f6c7ea16",
   "metadata": {},
   "outputs": [],
   "source": []
  },
  {
   "cell_type": "markdown",
   "id": "b2a9a614-8929-41a5-a85b-370d2b0ebfb1",
   "metadata": {},
   "source": [
    "78. Convert a vector of ints into a matrix binary representation (★★★)"
   ]
  },
  {
   "cell_type": "code",
   "execution_count": null,
   "id": "02e867a7-0c67-4aac-aece-0f57e7ec7515",
   "metadata": {},
   "outputs": [],
   "source": []
  },
  {
   "cell_type": "markdown",
   "id": "f68cb8cb-688d-4efc-96a0-d1c80250289d",
   "metadata": {},
   "source": [
    "79. Given a two dimensional array, how to extract unique rows? (★★★)"
   ]
  },
  {
   "cell_type": "code",
   "execution_count": null,
   "id": "aa0c48aa-8691-49dc-934b-1126a9dbf151",
   "metadata": {},
   "outputs": [],
   "source": []
  },
  {
   "cell_type": "markdown",
   "id": "2659acf5-4614-4d5e-a23d-e8e3d031a18b",
   "metadata": {},
   "source": [
    "80. Considering 2 vectors A & B, write the einsum equivalent of inner, outer, sum, and mul function (★★★)"
   ]
  },
  {
   "cell_type": "code",
   "execution_count": null,
   "id": "783c98ca-cbc4-4097-978d-6d057c7702e8",
   "metadata": {},
   "outputs": [],
   "source": []
  },
  {
   "cell_type": "markdown",
   "id": "cf52a844-258b-4354-8d04-61e034cc64ea",
   "metadata": {},
   "source": [
    "81. Considering a path described by two vectors (X,Y), how to sample it using equidistant samples (★★★)?"
   ]
  },
  {
   "cell_type": "code",
   "execution_count": null,
   "id": "5d08f15b-829d-4ca2-af31-e0f9620698d8",
   "metadata": {},
   "outputs": [],
   "source": []
  },
  {
   "cell_type": "markdown",
   "id": "8d0b759b-c29b-439e-bc1c-33a8cf5aab08",
   "metadata": {},
   "source": [
    "82. Given an integer n and a 2D array X, select from X the rows which can be interpreted as draws from a multinomial distribution with n degrees, i.e., the rows which only contain integers and which sum to n. (★★★)"
   ]
  },
  {
   "cell_type": "code",
   "execution_count": null,
   "id": "a17ca410-079e-43a5-b2b2-370f61fc6469",
   "metadata": {},
   "outputs": [],
   "source": []
  },
  {
   "cell_type": "markdown",
   "id": "691bb5b6-4849-4d49-b7f4-63794eb5a446",
   "metadata": {},
   "source": [
    "83. Compute bootstrapped 95% confidence intervals for the mean of a 1D array X (i.e., resample the elements of an array with replacement N times, compute the mean of each sample, and then compute percentiles over the means). (★★★)"
   ]
  },
  {
   "cell_type": "code",
   "execution_count": null,
   "id": "0a576f9e-11f8-4271-8b16-dcf1f3aaef33",
   "metadata": {},
   "outputs": [],
   "source": []
  },
  {
   "cell_type": "code",
   "execution_count": null,
   "id": "ac88ced3-ae18-439b-9b75-8d20a01fdca7",
   "metadata": {},
   "outputs": [],
   "source": []
  }
 ],
 "metadata": {
  "kernelspec": {
   "display_name": "Haskell",
   "language": "haskell",
   "name": "haskell"
  },
  "language_info": {
   "codemirror_mode": "ihaskell",
   "file_extension": ".hs",
   "mimetype": "text/x-haskell",
   "name": "haskell",
   "pygments_lexer": "Haskell",
   "version": "9.2.5"
  }
 },
 "nbformat": 4,
 "nbformat_minor": 5
}
