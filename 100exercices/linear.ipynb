{
 "cells": [
  {
   "cell_type": "code",
   "execution_count": 97,
   "id": "08bc98fe",
   "metadata": {},
   "outputs": [],
   "source": [
    "\n",
    "import qualified Torch.NN.Recurrent.Cell.LSTM as LSTM\n",
    "import qualified Torch.NN.Recurrent.Cell.GRU as GRU\n",
    "import qualified Torch.Functional as F\n",
    "import qualified Torch.Functional.Internal as FI\n",
    "import Torch\n",
    "import Torch.NN\n",
    "import Torch.Autograd"
   ]
  },
  {
   "cell_type": "code",
   "execution_count": 98,
   "id": "fd2c6c59",
   "metadata": {},
   "outputs": [
    {
     "data": {
      "text/plain": [
       "[16,7]"
      ]
     },
     "metadata": {},
     "output_type": "display_data"
    }
   ],
   "source": [
    "x <- randIO' [16,7] \n",
    "y <- randIO' [16,1]\n",
    "shape x"
   ]
  },
  {
   "cell_type": "code",
   "execution_count": 99,
   "id": "4871bf2a",
   "metadata": {},
   "outputs": [],
   "source": [
    "{-# LANGUAGE DeriveAnyClass #-}\n",
    "{-# LANGUAGE DeriveGeneric #-}\n",
    "{-# LANGUAGE RecordWildCards #-}\n",
    "\n",
    "import GHC.Generics (Generic)\n",
    "\n",
    "data MLPSpec = MLPSpec\n",
    "  { inputFeatures :: Int,\n",
    "    hiddenFeatures0 :: Int,\n",
    "    hiddenFeatures1 :: Int,\n",
    "    outputFeatures :: Int\n",
    "  }\n",
    "  deriving (Show, Eq)\n",
    "\n",
    "data MLP = MLP\n",
    "  { l0 :: Linear,\n",
    "    l1 :: Linear,\n",
    "    l2 :: Linear\n",
    "  }\n",
    "  deriving (Generic, Show, Parameterized)\n",
    "\n",
    "instance Randomizable MLPSpec MLP where\n",
    "  sample MLPSpec {..} =\n",
    "    MLP\n",
    "      <$> sample (LinearSpec inputFeatures hiddenFeatures0)\n",
    "      <*> sample (LinearSpec hiddenFeatures0 hiddenFeatures1)\n",
    "      <*> sample (LinearSpec hiddenFeatures1 outputFeatures)\n",
    "\n",
    "mlp :: MLP -> Tensor -> Tensor\n",
    "mlp MLP {..} =\n",
    "\n",
    "    linear l2 . relu . linear l1 . relu . linear l0"
   ]
  },
  {
   "cell_type": "code",
   "execution_count": 100,
   "id": "2892fe51",
   "metadata": {},
   "outputs": [],
   "source": [
    "spec = MLPSpec 7 64 32 1\n",
    "model <- sample spec"
   ]
  },
  {
   "cell_type": "code",
   "execution_count": 101,
   "id": "a0b0fcd5",
   "metadata": {},
   "outputs": [
    {
     "data": {
      "text/plain": [
       "[16,1]"
      ]
     },
     "metadata": {},
     "output_type": "display_data"
    }
   ],
   "source": [
    "result = mlp model x\n",
    "shape result"
   ]
  },
  {
   "cell_type": "code",
   "execution_count": 102,
   "id": "e022ab05",
   "metadata": {},
   "outputs": [],
   "source": [
    "processBatch :: Optimizer o => MLP -> o -> Float -> (Tensor, Tensor) -> IO (MLP, Float)\n",
    "processBatch model optimizer lr (input, label) = do\n",
    "  let output = mlp model input\n",
    "  let loss = FI.mse_loss output label 1  \n",
    "  (newModel, _) <- runStep model optimizer loss (realToFrac lr)  \n",
    "  pure (newModel, asValue loss)"
   ]
  },
  {
   "cell_type": "code",
   "execution_count": 103,
   "id": "7b07dc12",
   "metadata": {},
   "outputs": [
    {
     "data": {
      "text/plain": []
     },
     "metadata": {},
     "output_type": "display_data"
    }
   ],
   "source": [
    "x <- randIO' [16,7]\n",
    "y <- randIO' [16,1]\n",
    "optimizer = GD\n",
    "lr = 0.001\n",
    "batch = (x,y)\n",
    "\n",
    "(model,loss) <- processBatch model optimizer lr batch"
   ]
  },
  {
   "cell_type": "code",
   "execution_count": 104,
   "id": "eede9458",
   "metadata": {},
   "outputs": [],
   "source": [
    "\n",
    "import Control.Monad (foldM)\n",
    "\n",
    "processTrain :: Optimizer o => [(Tensor, Tensor)] -> MLP -> o -> Float -> IO (MLP, Float)\n",
    "processTrain dataloader model optimizer lr = do\n",
    "  foldM (\\(m, _) (i, batch) -> do\n",
    "            (newModel, loss) <- processBatch m optimizer lr batch\n",
    "            putStrLn $ \"Batch \" ++ show i ++ \" : loss : \" ++ show loss\n",
    "            pure (newModel, loss)\n",
    "        ) (model, 0.0) (zip [1..] dataloader)\n"
   ]
  },
  {
   "cell_type": "code",
   "execution_count": 105,
   "id": "36846c7c",
   "metadata": {},
   "outputs": [
    {
     "data": {
      "text/plain": [
       "Batch 1 : loss : 0.42876917\n",
       "Batch 2 : loss : 0.42479417\n",
       "Batch 3 : loss : 0.4208717"
      ]
     },
     "metadata": {},
     "output_type": "display_data"
    },
    {
     "data": {
      "text/plain": [
       "0.4208717"
      ]
     },
     "metadata": {},
     "output_type": "display_data"
    }
   ],
   "source": [
    "dataloader = [batch,batch,batch]\n",
    "(model,loss) <- processTrain dataloader model optimizer lr\n",
    "loss"
   ]
  }
 ],
 "metadata": {
  "kernelspec": {
   "display_name": "Haskell",
   "language": "haskell",
   "name": "haskell"
  },
  "language_info": {
   "codemirror_mode": "ihaskell",
   "file_extension": ".hs",
   "mimetype": "text/x-haskell",
   "name": "haskell",
   "pygments_lexer": "Haskell",
   "version": "9.2.5"
  }
 },
 "nbformat": 4,
 "nbformat_minor": 5
}
